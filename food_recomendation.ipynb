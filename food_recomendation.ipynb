{
 "cells": [
  {
   "cell_type": "code",
   "execution_count": 17,
   "metadata": {
    "id": "1-MWEsnmmM4O"
   },
   "outputs": [],
   "source": [
    "import pandas as pd\n",
    "import numpy as np\n",
    "import matplotlib.pyplot as plt\n",
    "\n",
    "import random\n",
    "import os"
   ]
  },
  {
   "cell_type": "markdown",
   "metadata": {
    "id": "hX_ga2GIYjcJ"
   },
   "source": [
    "## **Mencari rata rata nutrisi yang cocok untuk pasien diabetes berdasarkan dataset**\n",
    "\n",
    "Link Dataset:\n",
    "https://www.kaggle.com/datasets/nandagopll/food-suitable-for-diabetes-and-blood-pressure/data"
   ]
  },
  {
   "cell_type": "code",
   "execution_count": 18,
   "metadata": {},
   "outputs": [],
   "source": [
    "ROOT_DIR = os.getcwd()\n",
    "DATA_DIR = os.path.join(ROOT_DIR, 'flask-server', 'dataset')"
   ]
  },
  {
   "cell_type": "code",
   "execution_count": 19,
   "metadata": {
    "colab": {
     "base_uri": "https://localhost:8080/",
     "height": 224
    },
    "id": "RqQ6INcsYrWB",
    "outputId": "3e0dbcea-7e31-4717-c226-93bbcc7ab9c1"
   },
   "outputs": [
    {
     "name": "stdout",
     "output_type": "stream",
     "text": [
      "jumlah data : 502\n"
     ]
    },
    {
     "data": {
      "text/html": [
       "<div>\n",
       "<style scoped>\n",
       "    .dataframe tbody tr th:only-of-type {\n",
       "        vertical-align: middle;\n",
       "    }\n",
       "\n",
       "    .dataframe tbody tr th {\n",
       "        vertical-align: top;\n",
       "    }\n",
       "\n",
       "    .dataframe thead th {\n",
       "        text-align: right;\n",
       "    }\n",
       "</style>\n",
       "<table border=\"1\" class=\"dataframe\">\n",
       "  <thead>\n",
       "    <tr style=\"text-align: right;\">\n",
       "      <th></th>\n",
       "      <th>Food Name</th>\n",
       "      <th>Glycemic Index</th>\n",
       "      <th>Calories</th>\n",
       "      <th>Carbohydrates</th>\n",
       "      <th>Protein</th>\n",
       "      <th>Fat</th>\n",
       "      <th>Suitable for Diabetes</th>\n",
       "      <th>Suitable for Blood Pressure</th>\n",
       "      <th>Sodium Content</th>\n",
       "      <th>Potassium Content</th>\n",
       "      <th>Magnesium Content</th>\n",
       "      <th>Calcium Content</th>\n",
       "      <th>Fiber Content</th>\n",
       "    </tr>\n",
       "  </thead>\n",
       "  <tbody>\n",
       "    <tr>\n",
       "      <th>0</th>\n",
       "      <td>Apple</td>\n",
       "      <td>39</td>\n",
       "      <td>52</td>\n",
       "      <td>14.0</td>\n",
       "      <td>0.3</td>\n",
       "      <td>0.2</td>\n",
       "      <td>1</td>\n",
       "      <td>1</td>\n",
       "      <td>0</td>\n",
       "      <td>107</td>\n",
       "      <td>9</td>\n",
       "      <td>6</td>\n",
       "      <td>2.4</td>\n",
       "    </tr>\n",
       "    <tr>\n",
       "      <th>1</th>\n",
       "      <td>Banana</td>\n",
       "      <td>51</td>\n",
       "      <td>96</td>\n",
       "      <td>23.0</td>\n",
       "      <td>1.1</td>\n",
       "      <td>0.2</td>\n",
       "      <td>1</td>\n",
       "      <td>1</td>\n",
       "      <td>1</td>\n",
       "      <td>358</td>\n",
       "      <td>27</td>\n",
       "      <td>5</td>\n",
       "      <td>2.6</td>\n",
       "    </tr>\n",
       "    <tr>\n",
       "      <th>2</th>\n",
       "      <td>Orange</td>\n",
       "      <td>42</td>\n",
       "      <td>43</td>\n",
       "      <td>9.0</td>\n",
       "      <td>0.9</td>\n",
       "      <td>0.1</td>\n",
       "      <td>1</td>\n",
       "      <td>1</td>\n",
       "      <td>0</td>\n",
       "      <td>181</td>\n",
       "      <td>10</td>\n",
       "      <td>40</td>\n",
       "      <td>2.3</td>\n",
       "    </tr>\n",
       "    <tr>\n",
       "      <th>3</th>\n",
       "      <td>Strawberries</td>\n",
       "      <td>40</td>\n",
       "      <td>29</td>\n",
       "      <td>7.0</td>\n",
       "      <td>0.7</td>\n",
       "      <td>0.3</td>\n",
       "      <td>1</td>\n",
       "      <td>1</td>\n",
       "      <td>1</td>\n",
       "      <td>153</td>\n",
       "      <td>13</td>\n",
       "      <td>16</td>\n",
       "      <td>2.0</td>\n",
       "    </tr>\n",
       "    <tr>\n",
       "      <th>4</th>\n",
       "      <td>Blueberries</td>\n",
       "      <td>53</td>\n",
       "      <td>57</td>\n",
       "      <td>14.0</td>\n",
       "      <td>0.7</td>\n",
       "      <td>0.3</td>\n",
       "      <td>1</td>\n",
       "      <td>1</td>\n",
       "      <td>1</td>\n",
       "      <td>77</td>\n",
       "      <td>9</td>\n",
       "      <td>6</td>\n",
       "      <td>2.4</td>\n",
       "    </tr>\n",
       "  </tbody>\n",
       "</table>\n",
       "</div>"
      ],
      "text/plain": [
       "      Food Name  Glycemic Index  Calories  Carbohydrates  Protein  Fat  \\\n",
       "0         Apple              39        52           14.0      0.3  0.2   \n",
       "1        Banana              51        96           23.0      1.1  0.2   \n",
       "2        Orange              42        43            9.0      0.9  0.1   \n",
       "3  Strawberries              40        29            7.0      0.7  0.3   \n",
       "4   Blueberries              53        57           14.0      0.7  0.3   \n",
       "\n",
       "  Suitable for Diabetes  Suitable for Blood Pressure  Sodium Content  \\\n",
       "0                     1                            1               0   \n",
       "1                     1                            1               1   \n",
       "2                     1                            1               0   \n",
       "3                     1                            1               1   \n",
       "4                     1                            1               1   \n",
       "\n",
       "   Potassium Content  Magnesium Content  Calcium Content  Fiber Content  \n",
       "0                107                  9                6            2.4  \n",
       "1                358                 27                5            2.6  \n",
       "2                181                 10               40            2.3  \n",
       "3                153                 13               16            2.0  \n",
       "4                 77                  9                6            2.4  "
      ]
     },
     "execution_count": 19,
     "metadata": {},
     "output_type": "execute_result"
    }
   ],
   "source": [
    "food_df = pd.read_csv(os.path.join(DATA_DIR, \"diabet_food_recomendation.csv\"))\n",
    "print(\"jumlah data : {}\".format(food_df.shape[0]))\n",
    "food_df.head()"
   ]
  },
  {
   "cell_type": "code",
   "execution_count": 20,
   "metadata": {
    "colab": {
     "base_uri": "https://localhost:8080/"
    },
    "id": "Z0HSkLwYZJmN",
    "outputId": "389e4c0c-3ffa-4828-ca51-346783c0a86d"
   },
   "outputs": [
    {
     "name": "stdout",
     "output_type": "stream",
     "text": [
      "jumlah data kosong: {'Food Name': 0, 'Glycemic Index': 0, 'Calories': 0, 'Carbohydrates': 0, 'Protein': 0, 'Fat': 0, 'Suitable for Diabetes': 0, 'Suitable for Blood Pressure': 0, 'Sodium Content': 0, 'Potassium Content': 0, 'Magnesium Content': 0, 'Calcium Content': 0, 'Fiber Content': 1}\n",
      "jumlah data duplikat: 70\n"
     ]
    }
   ],
   "source": [
    "print('jumlah data kosong: {}'.format(food_df.isna().sum().to_dict()))\n",
    "print('jumlah data duplikat: {}'.format(food_df.duplicated().sum()))"
   ]
  },
  {
   "cell_type": "code",
   "execution_count": 21,
   "metadata": {
    "colab": {
     "base_uri": "https://localhost:8080/"
    },
    "id": "8QL9Db2GZfEA",
    "outputId": "dd8d1cfe-6c48-4861-9581-2cbcd823e71e"
   },
   "outputs": [
    {
     "name": "stdout",
     "output_type": "stream",
     "text": [
      "jumlah data kosong: {'Food Name': 0, 'Glycemic Index': 0, 'Calories': 0, 'Carbohydrates': 0, 'Protein': 0, 'Fat': 0, 'Suitable for Diabetes': 0, 'Suitable for Blood Pressure': 0, 'Sodium Content': 0, 'Potassium Content': 0, 'Magnesium Content': 0, 'Calcium Content': 0, 'Fiber Content': 0}\n",
      "jumlah data duplikat: 0\n",
      "jumlah data clean: 431\n"
     ]
    }
   ],
   "source": [
    "# buang data kosong dan duplicate\n",
    "food_df = food_df.dropna()\n",
    "food_df = food_df.drop_duplicates()\n",
    "\n",
    "print('jumlah data kosong: {}'.format(food_df.isna().sum().to_dict()))\n",
    "print('jumlah data duplikat: {}'.format(food_df.duplicated().sum()))\n",
    "\n",
    "print('jumlah data clean: {}'.format(food_df.shape[0]))"
   ]
  },
  {
   "cell_type": "code",
   "execution_count": 22,
   "metadata": {
    "colab": {
     "base_uri": "https://localhost:8080/"
    },
    "id": "Kc1ykjDwZ0CJ",
    "outputId": "6ea188d1-7aa6-4f84-fcc9-35d08344c17d"
   },
   "outputs": [
    {
     "data": {
      "text/plain": [
       "Index(['Food Name', 'Glycemic Index', 'Calories', 'Carbohydrates', 'Protein',\n",
       "       'Fat', 'Suitable for Diabetes', 'Suitable for Blood Pressure',\n",
       "       'Sodium Content', 'Potassium Content', 'Magnesium Content',\n",
       "       'Calcium Content', 'Fiber Content'],\n",
       "      dtype='object')"
      ]
     },
     "execution_count": 22,
     "metadata": {},
     "output_type": "execute_result"
    }
   ],
   "source": [
    "food_df.columns"
   ]
  },
  {
   "cell_type": "code",
   "execution_count": 23,
   "metadata": {
    "colab": {
     "base_uri": "https://localhost:8080/"
    },
    "id": "agD7aaRjcKxP",
    "outputId": "b4bc7611-9b4f-49d4-e037-6b7c2d8cbf73"
   },
   "outputs": [
    {
     "name": "stdout",
     "output_type": "stream",
     "text": [
      "<class 'pandas.core.frame.DataFrame'>\n",
      "Index: 431 entries, 0 to 501\n",
      "Data columns (total 13 columns):\n",
      " #   Column                       Non-Null Count  Dtype  \n",
      "---  ------                       --------------  -----  \n",
      " 0   Food Name                    431 non-null    object \n",
      " 1   Glycemic Index               431 non-null    int64  \n",
      " 2   Calories                     431 non-null    int64  \n",
      " 3   Carbohydrates                431 non-null    float64\n",
      " 4   Protein                      431 non-null    float64\n",
      " 5   Fat                          431 non-null    float64\n",
      " 6   Suitable for Diabetes        431 non-null    object \n",
      " 7   Suitable for Blood Pressure  431 non-null    int64  \n",
      " 8   Sodium Content               431 non-null    int64  \n",
      " 9   Potassium Content            431 non-null    int64  \n",
      " 10  Magnesium Content            431 non-null    int64  \n",
      " 11  Calcium Content              431 non-null    int64  \n",
      " 12  Fiber Content                431 non-null    float64\n",
      "dtypes: float64(4), int64(7), object(2)\n",
      "memory usage: 47.1+ KB\n"
     ]
    }
   ],
   "source": [
    "food_df.info()"
   ]
  },
  {
   "cell_type": "code",
   "execution_count": 24,
   "metadata": {
    "colab": {
     "base_uri": "https://localhost:8080/"
    },
    "id": "bqV8SVWvc7kx",
    "outputId": "0e8ad95c-5637-44fd-9bf3-ce31dee5d43f"
   },
   "outputs": [
    {
     "name": "stdout",
     "output_type": "stream",
     "text": [
      "['1' 'Yes' '0']\n",
      "object\n"
     ]
    }
   ],
   "source": [
    "print(food_df['Suitable for Diabetes'].unique())\n",
    "print(food_df['Suitable for Diabetes'].dtype)"
   ]
  },
  {
   "cell_type": "code",
   "execution_count": 25,
   "metadata": {
    "colab": {
     "base_uri": "https://localhost:8080/"
    },
    "id": "tf8zbYH_chJz",
    "outputId": "46df7e96-5552-4684-894d-1a79f0205f92"
   },
   "outputs": [
    {
     "name": "stdout",
     "output_type": "stream",
     "text": [
      "[1 0]\n",
      "int64\n"
     ]
    }
   ],
   "source": [
    "# encoder pada kolom Suitable for Diabetes dan Suitable for Blood Pressure\n",
    "food_df['Suitable for Diabetes'] = food_df['Suitable for Diabetes'].map({'Yes': 1, '1': 1, '0': 0})\n",
    "\n",
    "print(food_df['Suitable for Diabetes'].unique())\n",
    "print(food_df['Suitable for Diabetes'].dtype)"
   ]
  },
  {
   "cell_type": "code",
   "execution_count": 26,
   "metadata": {
    "colab": {
     "base_uri": "https://localhost:8080/"
    },
    "id": "qQfXf_0qaqSv",
    "outputId": "fafc0b43-b397-4efe-8424-0302f812f01d"
   },
   "outputs": [
    {
     "name": "stdout",
     "output_type": "stream",
     "text": [
      "jumlah data nutrisi yang cocok untuk penderita diabet: 393\n"
     ]
    }
   ],
   "source": [
    "diabet_food = food_df.copy()\n",
    "diabet_food = diabet_food[diabet_food['Suitable for Diabetes'] == 1]\n",
    "print('jumlah data nutrisi yang cocok untuk penderita diabet: {}'.format(diabet_food.shape[0]))"
   ]
  },
  {
   "cell_type": "code",
   "execution_count": 27,
   "metadata": {
    "colab": {
     "base_uri": "https://localhost:8080/",
     "height": 206
    },
    "id": "KYK4XhPodnRU",
    "outputId": "95ee711a-16f4-400f-ca3a-85ea3caf16cc"
   },
   "outputs": [
    {
     "data": {
      "text/html": [
       "<div>\n",
       "<style scoped>\n",
       "    .dataframe tbody tr th:only-of-type {\n",
       "        vertical-align: middle;\n",
       "    }\n",
       "\n",
       "    .dataframe tbody tr th {\n",
       "        vertical-align: top;\n",
       "    }\n",
       "\n",
       "    .dataframe thead th {\n",
       "        text-align: right;\n",
       "    }\n",
       "</style>\n",
       "<table border=\"1\" class=\"dataframe\">\n",
       "  <thead>\n",
       "    <tr style=\"text-align: right;\">\n",
       "      <th></th>\n",
       "      <th>Calories</th>\n",
       "      <th>Carbohydrates</th>\n",
       "      <th>Protein</th>\n",
       "      <th>Fat</th>\n",
       "    </tr>\n",
       "  </thead>\n",
       "  <tbody>\n",
       "    <tr>\n",
       "      <th>0</th>\n",
       "      <td>52</td>\n",
       "      <td>14.0</td>\n",
       "      <td>0.3</td>\n",
       "      <td>0.2</td>\n",
       "    </tr>\n",
       "    <tr>\n",
       "      <th>1</th>\n",
       "      <td>96</td>\n",
       "      <td>23.0</td>\n",
       "      <td>1.1</td>\n",
       "      <td>0.2</td>\n",
       "    </tr>\n",
       "    <tr>\n",
       "      <th>2</th>\n",
       "      <td>43</td>\n",
       "      <td>9.0</td>\n",
       "      <td>0.9</td>\n",
       "      <td>0.1</td>\n",
       "    </tr>\n",
       "    <tr>\n",
       "      <th>3</th>\n",
       "      <td>29</td>\n",
       "      <td>7.0</td>\n",
       "      <td>0.7</td>\n",
       "      <td>0.3</td>\n",
       "    </tr>\n",
       "    <tr>\n",
       "      <th>4</th>\n",
       "      <td>57</td>\n",
       "      <td>14.0</td>\n",
       "      <td>0.7</td>\n",
       "      <td>0.3</td>\n",
       "    </tr>\n",
       "  </tbody>\n",
       "</table>\n",
       "</div>"
      ],
      "text/plain": [
       "   Calories  Carbohydrates  Protein  Fat\n",
       "0        52           14.0      0.3  0.2\n",
       "1        96           23.0      1.1  0.2\n",
       "2        43            9.0      0.9  0.1\n",
       "3        29            7.0      0.7  0.3\n",
       "4        57           14.0      0.7  0.3"
      ]
     },
     "execution_count": 27,
     "metadata": {},
     "output_type": "execute_result"
    }
   ],
   "source": [
    "diabet_food = diabet_food[['Calories', 'Carbohydrates', 'Protein', 'Fat']]\n",
    "diabet_food.head()"
   ]
  },
  {
   "cell_type": "code",
   "execution_count": 28,
   "metadata": {
    "colab": {
     "base_uri": "https://localhost:8080/",
     "height": 300
    },
    "id": "9XpfKw1Wh62c",
    "outputId": "068bdb28-5d0f-4b23-d908-cb18ab763571"
   },
   "outputs": [
    {
     "data": {
      "text/html": [
       "<div>\n",
       "<style scoped>\n",
       "    .dataframe tbody tr th:only-of-type {\n",
       "        vertical-align: middle;\n",
       "    }\n",
       "\n",
       "    .dataframe tbody tr th {\n",
       "        vertical-align: top;\n",
       "    }\n",
       "\n",
       "    .dataframe thead th {\n",
       "        text-align: right;\n",
       "    }\n",
       "</style>\n",
       "<table border=\"1\" class=\"dataframe\">\n",
       "  <thead>\n",
       "    <tr style=\"text-align: right;\">\n",
       "      <th></th>\n",
       "      <th>Calories</th>\n",
       "      <th>Carbohydrates</th>\n",
       "      <th>Protein</th>\n",
       "      <th>Fat</th>\n",
       "    </tr>\n",
       "  </thead>\n",
       "  <tbody>\n",
       "    <tr>\n",
       "      <th>count</th>\n",
       "      <td>393.000000</td>\n",
       "      <td>393.000000</td>\n",
       "      <td>393.000000</td>\n",
       "      <td>393.000000</td>\n",
       "    </tr>\n",
       "    <tr>\n",
       "      <th>mean</th>\n",
       "      <td>184.282443</td>\n",
       "      <td>18.026718</td>\n",
       "      <td>9.531858</td>\n",
       "      <td>8.825700</td>\n",
       "    </tr>\n",
       "    <tr>\n",
       "      <th>std</th>\n",
       "      <td>154.561886</td>\n",
       "      <td>17.271423</td>\n",
       "      <td>9.244055</td>\n",
       "      <td>13.696184</td>\n",
       "    </tr>\n",
       "    <tr>\n",
       "      <th>min</th>\n",
       "      <td>0.000000</td>\n",
       "      <td>0.000000</td>\n",
       "      <td>0.000000</td>\n",
       "      <td>0.000000</td>\n",
       "    </tr>\n",
       "    <tr>\n",
       "      <th>25%</th>\n",
       "      <td>54.000000</td>\n",
       "      <td>5.000000</td>\n",
       "      <td>1.900000</td>\n",
       "      <td>0.400000</td>\n",
       "    </tr>\n",
       "    <tr>\n",
       "      <th>50%</th>\n",
       "      <td>160.000000</td>\n",
       "      <td>12.000000</td>\n",
       "      <td>5.300000</td>\n",
       "      <td>3.600000</td>\n",
       "    </tr>\n",
       "    <tr>\n",
       "      <th>75%</th>\n",
       "      <td>265.000000</td>\n",
       "      <td>26.300000</td>\n",
       "      <td>15.700000</td>\n",
       "      <td>13.500000</td>\n",
       "    </tr>\n",
       "    <tr>\n",
       "      <th>max</th>\n",
       "      <td>902.000000</td>\n",
       "      <td>77.500000</td>\n",
       "      <td>31.000000</td>\n",
       "      <td>100.000000</td>\n",
       "    </tr>\n",
       "  </tbody>\n",
       "</table>\n",
       "</div>"
      ],
      "text/plain": [
       "         Calories  Carbohydrates     Protein         Fat\n",
       "count  393.000000     393.000000  393.000000  393.000000\n",
       "mean   184.282443      18.026718    9.531858    8.825700\n",
       "std    154.561886      17.271423    9.244055   13.696184\n",
       "min      0.000000       0.000000    0.000000    0.000000\n",
       "25%     54.000000       5.000000    1.900000    0.400000\n",
       "50%    160.000000      12.000000    5.300000    3.600000\n",
       "75%    265.000000      26.300000   15.700000   13.500000\n",
       "max    902.000000      77.500000   31.000000  100.000000"
      ]
     },
     "execution_count": 28,
     "metadata": {},
     "output_type": "execute_result"
    }
   ],
   "source": [
    "diabet_food.describe()"
   ]
  },
  {
   "cell_type": "code",
   "execution_count": 29,
   "metadata": {
    "colab": {
     "base_uri": "https://localhost:8080/"
    },
    "id": "CnXXkBRWenWm",
    "outputId": "d425ae50-d696-4d7a-b14b-174b9c630090"
   },
   "outputs": [
    {
     "name": "stdout",
     "output_type": "stream",
     "text": [
      "rata-rata kalori: 184.28\n",
      "rata-rata karbohidrat: 18.03\n",
      "rata-rata protein: 9.53\n",
      "rata-rata lemak: 8.83\n",
      "\n",
      "\n",
      "max kalori: 902.00\n",
      "max karbohidrat: 77.50\n",
      "max protein: 31.00\n"
     ]
    }
   ],
   "source": [
    "cal_mean = diabet_food['Calories'].mean()\n",
    "carb_mean = diabet_food['Carbohydrates'].mean()\n",
    "protein_mean = diabet_food['Protein'].mean()\n",
    "fat_mean = diabet_food['Fat'].mean()\n",
    "\n",
    "max_cal = diabet_food['Calories'].max()\n",
    "max_carb = diabet_food['Carbohydrates'].max()\n",
    "max_protein = diabet_food['Protein'].max()\n",
    "max_fat = diabet_food['Fat'].max()\n",
    "\n",
    "print('rata-rata kalori: {:.2f}'.format(cal_mean))\n",
    "print('rata-rata karbohidrat: {:.2f}'.format(carb_mean))\n",
    "print('rata-rata protein: {:.2f}'.format(protein_mean))\n",
    "print('rata-rata lemak: {:.2f}'.format(fat_mean))\n",
    "\n",
    "print('\\n')\n",
    "\n",
    "print('max kalori: {:.2f}'.format(max_cal))\n",
    "print('max karbohidrat: {:.2f}'.format(max_carb))\n",
    "print('max protein: {:.2f}'.format(max_protein))"
   ]
  },
  {
   "cell_type": "code",
   "execution_count": 35,
   "metadata": {},
   "outputs": [
    {
     "name": "stdout",
     "output_type": "stream",
     "text": [
      "data duplicated: 74\n",
      "data duplicated: 0\n"
     ]
    }
   ],
   "source": [
    "print(\"data duplicated: {}\".format(diabet_food.duplicated().sum()))\n",
    "diabet_food = diabet_food.drop_duplicates()\n",
    "print(\"data duplicated: {}\".format(diabet_food.duplicated().sum()))"
   ]
  },
  {
   "cell_type": "code",
   "execution_count": 36,
   "metadata": {},
   "outputs": [],
   "source": [
    "# export CSV clean data\n",
    "diabet_food.to_csv(os.path.join(DATA_DIR, 'diabet_food_recomendation_clean.csv'), index=False)"
   ]
  },
  {
   "cell_type": "markdown",
   "metadata": {
    "id": "BvtHYtW4dg4d"
   },
   "source": [
    "## **REKOMENDASI MAKANAN INDO**\n",
    "\n",
    "Link dataset: https://www.kaggle.com/datasets/anasfikrihanif/indonesian-food-and-drink-nutrition-dataset/data"
   ]
  },
  {
   "cell_type": "code",
   "execution_count": 29,
   "metadata": {
    "colab": {
     "base_uri": "https://localhost:8080/",
     "height": 206
    },
    "id": "lCJ9Fd4tmXHO",
    "outputId": "395e4eb5-b66b-4101-970b-e540d9a6be00"
   },
   "outputs": [
    {
     "data": {
      "text/html": [
       "<div>\n",
       "<style scoped>\n",
       "    .dataframe tbody tr th:only-of-type {\n",
       "        vertical-align: middle;\n",
       "    }\n",
       "\n",
       "    .dataframe tbody tr th {\n",
       "        vertical-align: top;\n",
       "    }\n",
       "\n",
       "    .dataframe thead th {\n",
       "        text-align: right;\n",
       "    }\n",
       "</style>\n",
       "<table border=\"1\" class=\"dataframe\">\n",
       "  <thead>\n",
       "    <tr style=\"text-align: right;\">\n",
       "      <th></th>\n",
       "      <th>id</th>\n",
       "      <th>calories</th>\n",
       "      <th>proteins</th>\n",
       "      <th>fat</th>\n",
       "      <th>carbohydrate</th>\n",
       "      <th>name</th>\n",
       "      <th>image</th>\n",
       "    </tr>\n",
       "  </thead>\n",
       "  <tbody>\n",
       "    <tr>\n",
       "      <th>0</th>\n",
       "      <td>1</td>\n",
       "      <td>280.0</td>\n",
       "      <td>9.2</td>\n",
       "      <td>28.4</td>\n",
       "      <td>0.0</td>\n",
       "      <td>Abon</td>\n",
       "      <td>https://img-cdn.medkomtek.com/PbrY9X3ignQ8sVuj...</td>\n",
       "    </tr>\n",
       "    <tr>\n",
       "      <th>1</th>\n",
       "      <td>2</td>\n",
       "      <td>513.0</td>\n",
       "      <td>23.7</td>\n",
       "      <td>37.0</td>\n",
       "      <td>21.3</td>\n",
       "      <td>Abon haruwan</td>\n",
       "      <td>https://img-global.cpcdn.com/recipes/cbf330fbd...</td>\n",
       "    </tr>\n",
       "    <tr>\n",
       "      <th>2</th>\n",
       "      <td>3</td>\n",
       "      <td>0.0</td>\n",
       "      <td>0.0</td>\n",
       "      <td>0.2</td>\n",
       "      <td>0.0</td>\n",
       "      <td>Agar-agar</td>\n",
       "      <td>https://res.cloudinary.com/dk0z4ums3/image/upl...</td>\n",
       "    </tr>\n",
       "    <tr>\n",
       "      <th>3</th>\n",
       "      <td>4</td>\n",
       "      <td>45.0</td>\n",
       "      <td>1.1</td>\n",
       "      <td>0.4</td>\n",
       "      <td>10.8</td>\n",
       "      <td>Akar tonjong segar</td>\n",
       "      <td>https://images.tokopedia.net/img/cache/200-squ...</td>\n",
       "    </tr>\n",
       "    <tr>\n",
       "      <th>4</th>\n",
       "      <td>5</td>\n",
       "      <td>37.0</td>\n",
       "      <td>4.4</td>\n",
       "      <td>0.5</td>\n",
       "      <td>3.8</td>\n",
       "      <td>Aletoge segar</td>\n",
       "      <td>https://nilaigizi.com/assets/images/produk/pro...</td>\n",
       "    </tr>\n",
       "  </tbody>\n",
       "</table>\n",
       "</div>"
      ],
      "text/plain": [
       "   id  calories  proteins   fat  carbohydrate                name  \\\n",
       "0   1     280.0       9.2  28.4           0.0                Abon   \n",
       "1   2     513.0      23.7  37.0          21.3        Abon haruwan   \n",
       "2   3       0.0       0.0   0.2           0.0           Agar-agar   \n",
       "3   4      45.0       1.1   0.4          10.8  Akar tonjong segar   \n",
       "4   5      37.0       4.4   0.5           3.8       Aletoge segar   \n",
       "\n",
       "                                               image  \n",
       "0  https://img-cdn.medkomtek.com/PbrY9X3ignQ8sVuj...  \n",
       "1  https://img-global.cpcdn.com/recipes/cbf330fbd...  \n",
       "2  https://res.cloudinary.com/dk0z4ums3/image/upl...  \n",
       "3  https://images.tokopedia.net/img/cache/200-squ...  \n",
       "4  https://nilaigizi.com/assets/images/produk/pro...  "
      ]
     },
     "execution_count": 29,
     "metadata": {},
     "output_type": "execute_result"
    }
   ],
   "source": [
    "df = pd.read_csv(os.path.join(DATA_DIR, 'nutrition.csv'))\n",
    "df.head()"
   ]
  },
  {
   "cell_type": "code",
   "execution_count": null,
   "metadata": {
    "colab": {
     "base_uri": "https://localhost:8080/",
     "height": 370
    },
    "id": "VnpsBqPUmrzC",
    "outputId": "e1468313-6dac-4654-aa69-3fcb68c6651a"
   },
   "outputs": [
    {
     "name": "stdout",
     "output_type": "stream",
     "text": [
      "Jumlah data: 1346\n",
      "Jumlah data kosong: {'id': 0, 'calories': 0, 'proteins': 0, 'fat': 0, 'carbohydrate': 0, 'name': 0, 'image': 0}\n",
      "Jumlah data duplicate: 0\n",
      "Informasi Data\n"
     ]
    },
    {
     "data": {
      "application/vnd.google.colaboratory.intrinsic+json": {
       "summary": "{\n  \"name\": \"df\",\n  \"rows\": 8,\n  \"fields\": [\n    {\n      \"column\": \"id\",\n      \"properties\": {\n        \"dtype\": \"number\",\n        \"std\": 484.8001516496087,\n        \"min\": 1.0,\n        \"max\": 1346.0,\n        \"num_unique_values\": 6,\n        \"samples\": [\n          1346.0,\n          673.5,\n          1009.75\n        ],\n        \"semantic_type\": \"\",\n        \"description\": \"\"\n      }\n    },\n    {\n      \"column\": \"calories\",\n      \"properties\": {\n        \"dtype\": \"number\",\n        \"std\": 480.460569511145,\n        \"min\": 0.0,\n        \"max\": 1346.0,\n        \"num_unique_values\": 8,\n        \"samples\": [\n          203.21738484398216,\n          146.0,\n          1346.0\n        ],\n        \"semantic_type\": \"\",\n        \"description\": \"\"\n      }\n    },\n    {\n      \"column\": \"proteins\",\n      \"properties\": {\n        \"dtype\": \"number\",\n        \"std\": 470.2600635570768,\n        \"min\": 0.0,\n        \"max\": 1346.0,\n        \"num_unique_values\": 8,\n        \"samples\": [\n          10.00118870728083,\n          5.0,\n          1346.0\n        ],\n        \"semantic_type\": \"\",\n        \"description\": \"\"\n      }\n    },\n    {\n      \"column\": \"fat\",\n      \"properties\": {\n        \"dtype\": \"number\",\n        \"std\": 470.4010920672187,\n        \"min\": 0.0,\n        \"max\": 1346.0,\n        \"num_unique_values\": 8,\n        \"samples\": [\n          7.5840267459138175,\n          2.0,\n          1346.0\n        ],\n        \"semantic_type\": \"\",\n        \"description\": \"\"\n      }\n    },\n    {\n      \"column\": \"carbohydrate\",\n      \"properties\": {\n        \"dtype\": \"number\",\n        \"std\": 489.78415377657143,\n        \"min\": 0.0,\n        \"max\": 1346.0,\n        \"num_unique_values\": 8,\n        \"samples\": [\n          25.390193164933134,\n          13.3,\n          1346.0\n        ],\n        \"semantic_type\": \"\",\n        \"description\": \"\"\n      }\n    }\n  ]\n}",
       "type": "dataframe"
      },
      "text/html": [
       "\n",
       "  <div id=\"df-9acb7bad-54e5-43b9-9f1b-f13c260b7207\" class=\"colab-df-container\">\n",
       "    <div>\n",
       "<style scoped>\n",
       "    .dataframe tbody tr th:only-of-type {\n",
       "        vertical-align: middle;\n",
       "    }\n",
       "\n",
       "    .dataframe tbody tr th {\n",
       "        vertical-align: top;\n",
       "    }\n",
       "\n",
       "    .dataframe thead th {\n",
       "        text-align: right;\n",
       "    }\n",
       "</style>\n",
       "<table border=\"1\" class=\"dataframe\">\n",
       "  <thead>\n",
       "    <tr style=\"text-align: right;\">\n",
       "      <th></th>\n",
       "      <th>id</th>\n",
       "      <th>calories</th>\n",
       "      <th>proteins</th>\n",
       "      <th>fat</th>\n",
       "      <th>carbohydrate</th>\n",
       "    </tr>\n",
       "  </thead>\n",
       "  <tbody>\n",
       "    <tr>\n",
       "      <th>count</th>\n",
       "      <td>1346.000000</td>\n",
       "      <td>1346.000000</td>\n",
       "      <td>1346.000000</td>\n",
       "      <td>1346.000000</td>\n",
       "      <td>1346.000000</td>\n",
       "    </tr>\n",
       "    <tr>\n",
       "      <th>mean</th>\n",
       "      <td>673.500000</td>\n",
       "      <td>203.217385</td>\n",
       "      <td>10.001189</td>\n",
       "      <td>7.584027</td>\n",
       "      <td>25.390193</td>\n",
       "    </tr>\n",
       "    <tr>\n",
       "      <th>std</th>\n",
       "      <td>388.701042</td>\n",
       "      <td>163.075430</td>\n",
       "      <td>11.847980</td>\n",
       "      <td>13.733063</td>\n",
       "      <td>32.193054</td>\n",
       "    </tr>\n",
       "    <tr>\n",
       "      <th>min</th>\n",
       "      <td>1.000000</td>\n",
       "      <td>0.000000</td>\n",
       "      <td>0.000000</td>\n",
       "      <td>0.000000</td>\n",
       "      <td>0.000000</td>\n",
       "    </tr>\n",
       "    <tr>\n",
       "      <th>25%</th>\n",
       "      <td>337.250000</td>\n",
       "      <td>75.000000</td>\n",
       "      <td>1.800000</td>\n",
       "      <td>0.500000</td>\n",
       "      <td>4.525000</td>\n",
       "    </tr>\n",
       "    <tr>\n",
       "      <th>50%</th>\n",
       "      <td>673.500000</td>\n",
       "      <td>146.000000</td>\n",
       "      <td>5.000000</td>\n",
       "      <td>2.000000</td>\n",
       "      <td>13.300000</td>\n",
       "    </tr>\n",
       "    <tr>\n",
       "      <th>75%</th>\n",
       "      <td>1009.750000</td>\n",
       "      <td>333.750000</td>\n",
       "      <td>15.000000</td>\n",
       "      <td>8.275000</td>\n",
       "      <td>37.575000</td>\n",
       "    </tr>\n",
       "    <tr>\n",
       "      <th>max</th>\n",
       "      <td>1346.000000</td>\n",
       "      <td>940.000000</td>\n",
       "      <td>83.000000</td>\n",
       "      <td>100.000000</td>\n",
       "      <td>647.000000</td>\n",
       "    </tr>\n",
       "  </tbody>\n",
       "</table>\n",
       "</div>\n",
       "    <div class=\"colab-df-buttons\">\n",
       "\n",
       "  <div class=\"colab-df-container\">\n",
       "    <button class=\"colab-df-convert\" onclick=\"convertToInteractive('df-9acb7bad-54e5-43b9-9f1b-f13c260b7207')\"\n",
       "            title=\"Convert this dataframe to an interactive table.\"\n",
       "            style=\"display:none;\">\n",
       "\n",
       "  <svg xmlns=\"http://www.w3.org/2000/svg\" height=\"24px\" viewBox=\"0 -960 960 960\">\n",
       "    <path d=\"M120-120v-720h720v720H120Zm60-500h600v-160H180v160Zm220 220h160v-160H400v160Zm0 220h160v-160H400v160ZM180-400h160v-160H180v160Zm440 0h160v-160H620v160ZM180-180h160v-160H180v160Zm440 0h160v-160H620v160Z\"/>\n",
       "  </svg>\n",
       "    </button>\n",
       "\n",
       "  <style>\n",
       "    .colab-df-container {\n",
       "      display:flex;\n",
       "      gap: 12px;\n",
       "    }\n",
       "\n",
       "    .colab-df-convert {\n",
       "      background-color: #E8F0FE;\n",
       "      border: none;\n",
       "      border-radius: 50%;\n",
       "      cursor: pointer;\n",
       "      display: none;\n",
       "      fill: #1967D2;\n",
       "      height: 32px;\n",
       "      padding: 0 0 0 0;\n",
       "      width: 32px;\n",
       "    }\n",
       "\n",
       "    .colab-df-convert:hover {\n",
       "      background-color: #E2EBFA;\n",
       "      box-shadow: 0px 1px 2px rgba(60, 64, 67, 0.3), 0px 1px 3px 1px rgba(60, 64, 67, 0.15);\n",
       "      fill: #174EA6;\n",
       "    }\n",
       "\n",
       "    .colab-df-buttons div {\n",
       "      margin-bottom: 4px;\n",
       "    }\n",
       "\n",
       "    [theme=dark] .colab-df-convert {\n",
       "      background-color: #3B4455;\n",
       "      fill: #D2E3FC;\n",
       "    }\n",
       "\n",
       "    [theme=dark] .colab-df-convert:hover {\n",
       "      background-color: #434B5C;\n",
       "      box-shadow: 0px 1px 3px 1px rgba(0, 0, 0, 0.15);\n",
       "      filter: drop-shadow(0px 1px 2px rgba(0, 0, 0, 0.3));\n",
       "      fill: #FFFFFF;\n",
       "    }\n",
       "  </style>\n",
       "\n",
       "    <script>\n",
       "      const buttonEl =\n",
       "        document.querySelector('#df-9acb7bad-54e5-43b9-9f1b-f13c260b7207 button.colab-df-convert');\n",
       "      buttonEl.style.display =\n",
       "        google.colab.kernel.accessAllowed ? 'block' : 'none';\n",
       "\n",
       "      async function convertToInteractive(key) {\n",
       "        const element = document.querySelector('#df-9acb7bad-54e5-43b9-9f1b-f13c260b7207');\n",
       "        const dataTable =\n",
       "          await google.colab.kernel.invokeFunction('convertToInteractive',\n",
       "                                                    [key], {});\n",
       "        if (!dataTable) return;\n",
       "\n",
       "        const docLinkHtml = 'Like what you see? Visit the ' +\n",
       "          '<a target=\"_blank\" href=https://colab.research.google.com/notebooks/data_table.ipynb>data table notebook</a>'\n",
       "          + ' to learn more about interactive tables.';\n",
       "        element.innerHTML = '';\n",
       "        dataTable['output_type'] = 'display_data';\n",
       "        await google.colab.output.renderOutput(dataTable, element);\n",
       "        const docLink = document.createElement('div');\n",
       "        docLink.innerHTML = docLinkHtml;\n",
       "        element.appendChild(docLink);\n",
       "      }\n",
       "    </script>\n",
       "  </div>\n",
       "\n",
       "\n",
       "<div id=\"df-8a515e29-281d-4a36-b44f-5200414b2d9e\">\n",
       "  <button class=\"colab-df-quickchart\" onclick=\"quickchart('df-8a515e29-281d-4a36-b44f-5200414b2d9e')\"\n",
       "            title=\"Suggest charts\"\n",
       "            style=\"display:none;\">\n",
       "\n",
       "<svg xmlns=\"http://www.w3.org/2000/svg\" height=\"24px\"viewBox=\"0 0 24 24\"\n",
       "     width=\"24px\">\n",
       "    <g>\n",
       "        <path d=\"M19 3H5c-1.1 0-2 .9-2 2v14c0 1.1.9 2 2 2h14c1.1 0 2-.9 2-2V5c0-1.1-.9-2-2-2zM9 17H7v-7h2v7zm4 0h-2V7h2v10zm4 0h-2v-4h2v4z\"/>\n",
       "    </g>\n",
       "</svg>\n",
       "  </button>\n",
       "\n",
       "<style>\n",
       "  .colab-df-quickchart {\n",
       "      --bg-color: #E8F0FE;\n",
       "      --fill-color: #1967D2;\n",
       "      --hover-bg-color: #E2EBFA;\n",
       "      --hover-fill-color: #174EA6;\n",
       "      --disabled-fill-color: #AAA;\n",
       "      --disabled-bg-color: #DDD;\n",
       "  }\n",
       "\n",
       "  [theme=dark] .colab-df-quickchart {\n",
       "      --bg-color: #3B4455;\n",
       "      --fill-color: #D2E3FC;\n",
       "      --hover-bg-color: #434B5C;\n",
       "      --hover-fill-color: #FFFFFF;\n",
       "      --disabled-bg-color: #3B4455;\n",
       "      --disabled-fill-color: #666;\n",
       "  }\n",
       "\n",
       "  .colab-df-quickchart {\n",
       "    background-color: var(--bg-color);\n",
       "    border: none;\n",
       "    border-radius: 50%;\n",
       "    cursor: pointer;\n",
       "    display: none;\n",
       "    fill: var(--fill-color);\n",
       "    height: 32px;\n",
       "    padding: 0;\n",
       "    width: 32px;\n",
       "  }\n",
       "\n",
       "  .colab-df-quickchart:hover {\n",
       "    background-color: var(--hover-bg-color);\n",
       "    box-shadow: 0 1px 2px rgba(60, 64, 67, 0.3), 0 1px 3px 1px rgba(60, 64, 67, 0.15);\n",
       "    fill: var(--button-hover-fill-color);\n",
       "  }\n",
       "\n",
       "  .colab-df-quickchart-complete:disabled,\n",
       "  .colab-df-quickchart-complete:disabled:hover {\n",
       "    background-color: var(--disabled-bg-color);\n",
       "    fill: var(--disabled-fill-color);\n",
       "    box-shadow: none;\n",
       "  }\n",
       "\n",
       "  .colab-df-spinner {\n",
       "    border: 2px solid var(--fill-color);\n",
       "    border-color: transparent;\n",
       "    border-bottom-color: var(--fill-color);\n",
       "    animation:\n",
       "      spin 1s steps(1) infinite;\n",
       "  }\n",
       "\n",
       "  @keyframes spin {\n",
       "    0% {\n",
       "      border-color: transparent;\n",
       "      border-bottom-color: var(--fill-color);\n",
       "      border-left-color: var(--fill-color);\n",
       "    }\n",
       "    20% {\n",
       "      border-color: transparent;\n",
       "      border-left-color: var(--fill-color);\n",
       "      border-top-color: var(--fill-color);\n",
       "    }\n",
       "    30% {\n",
       "      border-color: transparent;\n",
       "      border-left-color: var(--fill-color);\n",
       "      border-top-color: var(--fill-color);\n",
       "      border-right-color: var(--fill-color);\n",
       "    }\n",
       "    40% {\n",
       "      border-color: transparent;\n",
       "      border-right-color: var(--fill-color);\n",
       "      border-top-color: var(--fill-color);\n",
       "    }\n",
       "    60% {\n",
       "      border-color: transparent;\n",
       "      border-right-color: var(--fill-color);\n",
       "    }\n",
       "    80% {\n",
       "      border-color: transparent;\n",
       "      border-right-color: var(--fill-color);\n",
       "      border-bottom-color: var(--fill-color);\n",
       "    }\n",
       "    90% {\n",
       "      border-color: transparent;\n",
       "      border-bottom-color: var(--fill-color);\n",
       "    }\n",
       "  }\n",
       "</style>\n",
       "\n",
       "  <script>\n",
       "    async function quickchart(key) {\n",
       "      const quickchartButtonEl =\n",
       "        document.querySelector('#' + key + ' button');\n",
       "      quickchartButtonEl.disabled = true;  // To prevent multiple clicks.\n",
       "      quickchartButtonEl.classList.add('colab-df-spinner');\n",
       "      try {\n",
       "        const charts = await google.colab.kernel.invokeFunction(\n",
       "            'suggestCharts', [key], {});\n",
       "      } catch (error) {\n",
       "        console.error('Error during call to suggestCharts:', error);\n",
       "      }\n",
       "      quickchartButtonEl.classList.remove('colab-df-spinner');\n",
       "      quickchartButtonEl.classList.add('colab-df-quickchart-complete');\n",
       "    }\n",
       "    (() => {\n",
       "      let quickchartButtonEl =\n",
       "        document.querySelector('#df-8a515e29-281d-4a36-b44f-5200414b2d9e button');\n",
       "      quickchartButtonEl.style.display =\n",
       "        google.colab.kernel.accessAllowed ? 'block' : 'none';\n",
       "    })();\n",
       "  </script>\n",
       "</div>\n",
       "\n",
       "    </div>\n",
       "  </div>\n"
      ],
      "text/plain": [
       "                id     calories     proteins          fat  carbohydrate\n",
       "count  1346.000000  1346.000000  1346.000000  1346.000000   1346.000000\n",
       "mean    673.500000   203.217385    10.001189     7.584027     25.390193\n",
       "std     388.701042   163.075430    11.847980    13.733063     32.193054\n",
       "min       1.000000     0.000000     0.000000     0.000000      0.000000\n",
       "25%     337.250000    75.000000     1.800000     0.500000      4.525000\n",
       "50%     673.500000   146.000000     5.000000     2.000000     13.300000\n",
       "75%    1009.750000   333.750000    15.000000     8.275000     37.575000\n",
       "max    1346.000000   940.000000    83.000000   100.000000    647.000000"
      ]
     },
     "execution_count": 111,
     "metadata": {},
     "output_type": "execute_result"
    }
   ],
   "source": [
    "print(f'Jumlah data: {df.shape[0]}')\n",
    "print(f\"Jumlah data kosong: {df.isna().sum().to_dict()}\")\n",
    "print(f\"Jumlah data duplicate: {df.duplicated().sum()}\")\n",
    "\n",
    "print(\"Informasi Data\")\n",
    "df.describe()"
   ]
  },
  {
   "cell_type": "code",
   "execution_count": null,
   "metadata": {
    "colab": {
     "base_uri": "https://localhost:8080/"
    },
    "id": "PR4Cu6RRfj5p",
    "outputId": "91fabe10-6c8f-43fc-e3d7-f8682c2ca820"
   },
   "outputs": [
    {
     "name": "stdout",
     "output_type": "stream",
     "text": [
      "Data gambar tanpa URL yang valid: 0\n",
      "Data gambar tanpa URL yang valid: 0\n",
      "Jumlah data sekarang: 1340\n"
     ]
    }
   ],
   "source": [
    "invalid_images = df[~df['image'].str.startswith(\"https://\")]\n",
    "\n",
    "print(f\"Data gambar tanpa URL yang valid: {len(invalid_images)}\")\n",
    "\n",
    "df = df.drop(invalid_images.index)\n",
    "\n",
    "invalid_images = df[~df['image'].str.startswith(\"https://\")]\n",
    "print(f\"Data gambar tanpa URL yang valid: {len(invalid_images)}\")\n",
    "\n",
    "print(f\"Jumlah data sekarang: {df.shape[0]}\")"
   ]
  },
  {
   "cell_type": "code",
   "execution_count": null,
   "metadata": {
    "id": "1Wl_DC4joR4e"
   },
   "outputs": [],
   "source": [
    "def filter_food(df, max_calories=None, max_carbohydrate=None, max_fat=None, max_protein=None):\n",
    "    \"\"\"\n",
    "    Filter makanan berdasarkan batas kalori, karbohidrat, dan lemak.\n",
    "    \"\"\"\n",
    "    filtered_df = df.copy()\n",
    "    if max_calories is not None:\n",
    "        filtered_df = filtered_df[filtered_df['calories'] <= max_calories]\n",
    "    if max_carbohydrate is not None:\n",
    "        filtered_df = filtered_df[filtered_df['carbohydrate'] <= max_carbohydrate]\n",
    "    if max_fat is not None:\n",
    "        filtered_df = filtered_df[filtered_df['fat'] <= max_fat]\n",
    "    if max_protein is not None:\n",
    "        filtered_df = filtered_df[filtered_df['proteins'] <= max_protein]\n",
    "\n",
    "    return filtered_df\n",
    "\n",
    "def generate_combinations(food_df, num_combinations=5, items_per_combination=5):\n",
    "    \"\"\"\n",
    "    Generate kombinasi makanan acak.\n",
    "    \"\"\"\n",
    "    combinations = []\n",
    "    for _ in range(num_combinations):\n",
    "        random_selection = food_df.sample(min(len(food_df), items_per_combination))\n",
    "\n",
    "        combinations.append(random_selection)\n",
    "    return combinations"
   ]
  },
  {
   "cell_type": "code",
   "execution_count": null,
   "metadata": {
    "colab": {
     "base_uri": "https://localhost:8080/"
    },
    "id": "qg8_o4LGleBX",
    "outputId": "fe66a8b6-22cf-4dcd-a0a0-62cd9d32a411"
   },
   "outputs": [
    {
     "name": "stdout",
     "output_type": "stream",
     "text": [
      "Masukkan nilai (0 hingga 1): 0.5\n",
      "karena kemungkinan user merupakan pasien diabetes\n",
      "berikut beberapa opsi makanan yang mungkin cocok untuk user:\n",
      "\n",
      "Kombinasi 1:\n",
      "                     name  calories  carbohydrate   fat  proteins  \\\n",
      "951                  Otak     125.0           0.8   8.6      10.4   \n",
      "315  Daun ubi putih segar      46.0           8.2   0.2       2.8   \n",
      "230           Daging Kuda     118.0           0.9   4.1      18.1   \n",
      "16                  Angsa     354.0           0.0  31.5      16.4   \n",
      "673        Kangkung kukus      30.0           4.7   0.7       3.2   \n",
      "\n",
      "                                                 image  \n",
      "951  https://asset.kompas.com/crops/Zb2CWR9vmVrUUr6...  \n",
      "315  https://asset-a.grid.id/crop/0x0:0x0/700x465/p...  \n",
      "230  https://awsimages.detik.net.id/community/media...  \n",
      "16   https://cdn.idntimes.com/content-images/commun...  \n",
      "673  https://cdn1-production-images-kly.akamaized.n...  \n",
      "\n",
      "Kombinasi 2:\n",
      "                        name  calories  carbohydrate   fat  proteins  \\\n",
      "864         Mangga Indramayu      72.0          18.7   0.2       0.8   \n",
      "832      Lawar penyu masakan     141.0           7.6   1.5      23.0   \n",
      "1048              Roti boong     341.0          43.3  16.2       5.5   \n",
      "1279  Terong + Oncom makanan     285.0           9.5  25.7       4.3   \n",
      "687             Katul Jagung     356.0          64.5   8.5       9.0   \n",
      "\n",
      "                                                  image  \n",
      "864   https://asset.kompas.com/crops/oO0XncIXQSUeIA_...  \n",
      "832   https://fastly.4sqi.net/img/general/600x600/43...  \n",
      "1048  https://img-global.cpcdn.com/recipes/cee92d5a5...  \n",
      "1279  https://asset-a.grid.id/crop/0x0:0x0/700x465/p...  \n",
      "687   https://s2.bukalapak.com/img/2370243413/large/...  \n",
      "\n",
      "Kombinasi 3:\n",
      "                          name  calories  carbohydrate  fat  proteins  \\\n",
      "970               Pempek adaan     162.0          27.8  3.0       4.9   \n",
      "940   Oncom Kacang Tanah pepes     132.0          13.7  3.8      12.7   \n",
      "507            Ikan sunu segar     111.0           6.7  3.4      13.3   \n",
      "1125                   Seledri      20.0           4.6  0.1       1.0   \n",
      "1201         Tapai ketan hitam     166.0          34.4  1.0       3.8   \n",
      "\n",
      "                                                  image  \n",
      "970   https://asset.kompas.com/crops/ZCo2_DcJAXGslXb...  \n",
      "940   https://t-2.tstatic.net/palembang/foto/bank/im...  \n",
      "507   https://upload.wikimedia.org/wikipedia/commons...  \n",
      "1125  https://images.bisnis.com/posts/2021/11/08/146...  \n",
      "1201  https://d1vbn70lmn1nqe.cloudfront.net/prod/wp-...  \n",
      "\n",
      "Kombinasi 4:\n",
      "                         name  calories  carbohydrate   fat  proteins  \\\n",
      "852               Lokan segar     217.0           5.1   1.7      11.0   \n",
      "54                     Bacang     102.9          16.3   2.7       3.3   \n",
      "39           Ayam goreng paha     287.0           1.7  15.7      31.0   \n",
      "1026             Putu Mayang      200.0          43.8   2.4       1.0   \n",
      "49    Babi daging gemuk segar     453.0           0.0  45.0      11.9   \n",
      "\n",
      "                                                  image  \n",
      "852   https://cdn-2.tstatic.net/aceh/foto/bank/image...  \n",
      "54    https://cdn1-production-images-kly.akamaized.n...  \n",
      "39    https://cdn1-production-images-kly.akamaized.n...  \n",
      "1026  https://awsimages.detik.net.id/community/media...  \n",
      "49    https://akcdn.detik.net.id/visual/2020/05/12/d...  \n",
      "\n",
      "Kombinasi 5:\n",
      "              name  calories  carbohydrate   fat  proteins  \\\n",
      "1099  Sate Bandeng     283.0          20.9  16.8      12.1   \n",
      "1338  Wingko babat     355.0          51.4  15.1       3.2   \n",
      "815          Kwaci     515.0          13.8  42.1      30.6   \n",
      "578    Jeruk Manis      45.0          11.2   0.2       0.9   \n",
      "856    Lupis ketan     164.0          34.5   2.1       1.8   \n",
      "\n",
      "                                                  image  \n",
      "1099  https://asset.kompas.com/crops/4UfXhXtR7hK2atn...  \n",
      "1338  https://awsimages.detik.net.id/community/media...  \n",
      "815   https://lzd-img-global.slatic.net/g/p/38df63d3...  \n",
      "578   https://img.okezone.com/content/2015/07/30/298...  \n",
      "856   https://asset.kompas.com/crops/TRFlnZa303pT0iw...  \n"
     ]
    }
   ],
   "source": [
    "# contoh input\n",
    "while True:\n",
    "    try:\n",
    "        user_diabetes = float(input(\"Masukkan nilai (0 hingga 1): \"))\n",
    "\n",
    "        if 0 <= user_diabetes <= 1:\n",
    "            user_diabetes = 1 if user_diabetes >= 0.5 else 0\n",
    "            break\n",
    "        else:\n",
    "            print(\"Input harus berada antara 0 dan 1.\")\n",
    "    except ValueError:\n",
    "        print(\"Input tidak valid! Harap masukkan angka.\")\n",
    "\n",
    "print(f\"karena {'kemungkinan user merupakan pasien diabetes' if user_diabetes else 'user tidak mengalami diabetes'}\")\n",
    "\n",
    "print(f\"berikut beberapa opsi makanan yang mungkin cocok untuk user:\")\n",
    "\n",
    "diabetes_food = filter_food(df, max_calories=max_cal, max_carbohydrate=max_carb, max_fat=max_fat, max_protein=max_protein)\n",
    "normal_food = df\n",
    "\n",
    "diabetes_combinations = generate_combinations(diabetes_food, num_combinations=5)\n",
    "normal_combinations = generate_combinations(normal_food, num_combinations=5)\n",
    "\n",
    "if user_diabetes:\n",
    "    for idx, combo in enumerate(diabetes_combinations, 1):\n",
    "        print(f\"\\nKombinasi {idx}:\")\n",
    "        print(combo[[\"name\", \"calories\", \"carbohydrate\", \"fat\", \"proteins\", \"image\"]])\n",
    "else:\n",
    "    for idx, combo in enumerate(normal_combinations, 1):\n",
    "        print(f\"\\nKombinasi {idx}:\")\n",
    "        print(combo[[\"name\", \"calories\", \"carbohydrate\", \"fat\", \"proteins\", \"image\"]])"
   ]
  },
  {
   "cell_type": "code",
   "execution_count": null,
   "metadata": {
    "colab": {
     "base_uri": "https://localhost:8080/"
    },
    "id": "LqvcvDCItNpr",
    "outputId": "75076c7a-b948-469f-c371-44099c8bcedb"
   },
   "outputs": [
    {
     "name": "stdout",
     "output_type": "stream",
     "text": [
      "https://asset.kompas.com/crops/Zb2CWR9vmVrUUr6v372o4SJ8gs0=/0x0:1000x667/750x500/data/photo/2021/07/18/60f3913f44be3.jpg\n"
     ]
    }
   ],
   "source": [
    "print(df['image'][951])"
   ]
  },
  {
   "cell_type": "code",
   "execution_count": null,
   "metadata": {
    "colab": {
     "base_uri": "https://localhost:8080/"
    },
    "id": "uTzRi5cct67l",
    "outputId": "17d9175e-d4ee-4ae9-d373-a557c5b63ec4"
   },
   "outputs": [
    {
     "name": "stdout",
     "output_type": "stream",
     "text": [
      "Ukuran gambar pada URL di baris 951: Lebar = 750 piksel, Tinggi = 500 piksel\n"
     ]
    }
   ],
   "source": [
    "import requests\n",
    "from PIL import Image\n",
    "from io import BytesIO\n",
    "\n",
    "image_url = df['image'][1099]\n",
    "\n",
    "response = requests.get(image_url)\n",
    "\n",
    "if response.status_code == 200:\n",
    "    img = Image.open(BytesIO(response.content))\n",
    "\n",
    "    width, height = img.size\n",
    "    print(f\"Ukuran gambar pada URL di baris 951: Lebar = {width} piksel, Tinggi = {height} piksel\")\n",
    "else:\n",
    "    print(\"Gambar tidak dapat diunduh. Status code:\", response.status_code)"
   ]
  }
 ],
 "metadata": {
  "colab": {
   "provenance": []
  },
  "kernelspec": {
   "display_name": "Python 3 (ipykernel)",
   "language": "python",
   "name": "python3"
  },
  "language_info": {
   "codemirror_mode": {
    "name": "ipython",
    "version": 3
   },
   "file_extension": ".py",
   "mimetype": "text/x-python",
   "name": "python",
   "nbconvert_exporter": "python",
   "pygments_lexer": "ipython3",
   "version": "3.12.6"
  }
 },
 "nbformat": 4,
 "nbformat_minor": 4
}
