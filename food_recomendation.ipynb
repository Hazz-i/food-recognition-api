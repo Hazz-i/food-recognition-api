{
 "cells": [
  {
   "cell_type": "code",
   "execution_count": 3,
   "metadata": {
    "id": "1-MWEsnmmM4O"
   },
   "outputs": [],
   "source": [
    "import pandas as pd\n",
    "import numpy as np\n",
    "import matplotlib.pyplot as plt\n",
    "\n",
    "import random\n",
    "import os"
   ]
  },
  {
   "cell_type": "markdown",
   "metadata": {
    "id": "hX_ga2GIYjcJ"
   },
   "source": [
    "## **Mencari rata rata nutrisi yang cocok untuk pasien diabetes berdasarkan dataset**\n",
    "\n",
    "Link Dataset:\n",
    "https://www.kaggle.com/datasets/nandagopll/food-suitable-for-diabetes-and-blood-pressure/data"
   ]
  },
  {
   "cell_type": "code",
   "execution_count": 4,
   "metadata": {},
   "outputs": [],
   "source": [
    "ROOT_DIR = os.getcwd()\n",
    "DATA_DIR = os.path.join(ROOT_DIR, 'flask-server', 'dataset')"
   ]
  },
  {
   "cell_type": "code",
   "execution_count": 5,
   "metadata": {
    "colab": {
     "base_uri": "https://localhost:8080/",
     "height": 224
    },
    "id": "RqQ6INcsYrWB",
    "outputId": "3e0dbcea-7e31-4717-c226-93bbcc7ab9c1"
   },
   "outputs": [
    {
     "name": "stdout",
     "output_type": "stream",
     "text": [
      "jumlah data : 502\n"
     ]
    },
    {
     "data": {
      "text/html": [
       "<div>\n",
       "<style scoped>\n",
       "    .dataframe tbody tr th:only-of-type {\n",
       "        vertical-align: middle;\n",
       "    }\n",
       "\n",
       "    .dataframe tbody tr th {\n",
       "        vertical-align: top;\n",
       "    }\n",
       "\n",
       "    .dataframe thead th {\n",
       "        text-align: right;\n",
       "    }\n",
       "</style>\n",
       "<table border=\"1\" class=\"dataframe\">\n",
       "  <thead>\n",
       "    <tr style=\"text-align: right;\">\n",
       "      <th></th>\n",
       "      <th>Food Name</th>\n",
       "      <th>Glycemic Index</th>\n",
       "      <th>Calories</th>\n",
       "      <th>Carbohydrates</th>\n",
       "      <th>Protein</th>\n",
       "      <th>Fat</th>\n",
       "      <th>Suitable for Diabetes</th>\n",
       "      <th>Suitable for Blood Pressure</th>\n",
       "      <th>Sodium Content</th>\n",
       "      <th>Potassium Content</th>\n",
       "      <th>Magnesium Content</th>\n",
       "      <th>Calcium Content</th>\n",
       "      <th>Fiber Content</th>\n",
       "    </tr>\n",
       "  </thead>\n",
       "  <tbody>\n",
       "    <tr>\n",
       "      <th>0</th>\n",
       "      <td>Apple</td>\n",
       "      <td>39</td>\n",
       "      <td>52</td>\n",
       "      <td>14.0</td>\n",
       "      <td>0.3</td>\n",
       "      <td>0.2</td>\n",
       "      <td>1</td>\n",
       "      <td>1</td>\n",
       "      <td>0</td>\n",
       "      <td>107</td>\n",
       "      <td>9</td>\n",
       "      <td>6</td>\n",
       "      <td>2.4</td>\n",
       "    </tr>\n",
       "    <tr>\n",
       "      <th>1</th>\n",
       "      <td>Banana</td>\n",
       "      <td>51</td>\n",
       "      <td>96</td>\n",
       "      <td>23.0</td>\n",
       "      <td>1.1</td>\n",
       "      <td>0.2</td>\n",
       "      <td>1</td>\n",
       "      <td>1</td>\n",
       "      <td>1</td>\n",
       "      <td>358</td>\n",
       "      <td>27</td>\n",
       "      <td>5</td>\n",
       "      <td>2.6</td>\n",
       "    </tr>\n",
       "    <tr>\n",
       "      <th>2</th>\n",
       "      <td>Orange</td>\n",
       "      <td>42</td>\n",
       "      <td>43</td>\n",
       "      <td>9.0</td>\n",
       "      <td>0.9</td>\n",
       "      <td>0.1</td>\n",
       "      <td>1</td>\n",
       "      <td>1</td>\n",
       "      <td>0</td>\n",
       "      <td>181</td>\n",
       "      <td>10</td>\n",
       "      <td>40</td>\n",
       "      <td>2.3</td>\n",
       "    </tr>\n",
       "    <tr>\n",
       "      <th>3</th>\n",
       "      <td>Strawberries</td>\n",
       "      <td>40</td>\n",
       "      <td>29</td>\n",
       "      <td>7.0</td>\n",
       "      <td>0.7</td>\n",
       "      <td>0.3</td>\n",
       "      <td>1</td>\n",
       "      <td>1</td>\n",
       "      <td>1</td>\n",
       "      <td>153</td>\n",
       "      <td>13</td>\n",
       "      <td>16</td>\n",
       "      <td>2.0</td>\n",
       "    </tr>\n",
       "    <tr>\n",
       "      <th>4</th>\n",
       "      <td>Blueberries</td>\n",
       "      <td>53</td>\n",
       "      <td>57</td>\n",
       "      <td>14.0</td>\n",
       "      <td>0.7</td>\n",
       "      <td>0.3</td>\n",
       "      <td>1</td>\n",
       "      <td>1</td>\n",
       "      <td>1</td>\n",
       "      <td>77</td>\n",
       "      <td>9</td>\n",
       "      <td>6</td>\n",
       "      <td>2.4</td>\n",
       "    </tr>\n",
       "  </tbody>\n",
       "</table>\n",
       "</div>"
      ],
      "text/plain": [
       "      Food Name  Glycemic Index  Calories  Carbohydrates  Protein  Fat  \\\n",
       "0         Apple              39        52           14.0      0.3  0.2   \n",
       "1        Banana              51        96           23.0      1.1  0.2   \n",
       "2        Orange              42        43            9.0      0.9  0.1   \n",
       "3  Strawberries              40        29            7.0      0.7  0.3   \n",
       "4   Blueberries              53        57           14.0      0.7  0.3   \n",
       "\n",
       "  Suitable for Diabetes  Suitable for Blood Pressure  Sodium Content  \\\n",
       "0                     1                            1               0   \n",
       "1                     1                            1               1   \n",
       "2                     1                            1               0   \n",
       "3                     1                            1               1   \n",
       "4                     1                            1               1   \n",
       "\n",
       "   Potassium Content  Magnesium Content  Calcium Content  Fiber Content  \n",
       "0                107                  9                6            2.4  \n",
       "1                358                 27                5            2.6  \n",
       "2                181                 10               40            2.3  \n",
       "3                153                 13               16            2.0  \n",
       "4                 77                  9                6            2.4  "
      ]
     },
     "execution_count": 5,
     "metadata": {},
     "output_type": "execute_result"
    }
   ],
   "source": [
    "food_df = pd.read_csv(os.path.join(DATA_DIR, \"diabet_food_recomendation.csv\"))\n",
    "print(\"jumlah data : {}\".format(food_df.shape[0]))\n",
    "food_df.head()"
   ]
  },
  {
   "cell_type": "code",
   "execution_count": 6,
   "metadata": {
    "colab": {
     "base_uri": "https://localhost:8080/"
    },
    "id": "Z0HSkLwYZJmN",
    "outputId": "389e4c0c-3ffa-4828-ca51-346783c0a86d"
   },
   "outputs": [
    {
     "name": "stdout",
     "output_type": "stream",
     "text": [
      "jumlah data kosong: {'Food Name': 0, 'Glycemic Index': 0, 'Calories': 0, 'Carbohydrates': 0, 'Protein': 0, 'Fat': 0, 'Suitable for Diabetes': 0, 'Suitable for Blood Pressure': 0, 'Sodium Content': 0, 'Potassium Content': 0, 'Magnesium Content': 0, 'Calcium Content': 0, 'Fiber Content': 1}\n",
      "jumlah data duplikat: 70\n"
     ]
    }
   ],
   "source": [
    "print('jumlah data kosong: {}'.format(food_df.isna().sum().to_dict()))\n",
    "print('jumlah data duplikat: {}'.format(food_df.duplicated().sum()))"
   ]
  },
  {
   "cell_type": "code",
   "execution_count": 7,
   "metadata": {
    "colab": {
     "base_uri": "https://localhost:8080/"
    },
    "id": "8QL9Db2GZfEA",
    "outputId": "dd8d1cfe-6c48-4861-9581-2cbcd823e71e"
   },
   "outputs": [
    {
     "name": "stdout",
     "output_type": "stream",
     "text": [
      "jumlah data kosong: {'Food Name': 0, 'Glycemic Index': 0, 'Calories': 0, 'Carbohydrates': 0, 'Protein': 0, 'Fat': 0, 'Suitable for Diabetes': 0, 'Suitable for Blood Pressure': 0, 'Sodium Content': 0, 'Potassium Content': 0, 'Magnesium Content': 0, 'Calcium Content': 0, 'Fiber Content': 0}\n",
      "jumlah data duplikat: 0\n",
      "jumlah data clean: 431\n"
     ]
    }
   ],
   "source": [
    "# buang data kosong dan duplicate\n",
    "food_df = food_df.dropna()\n",
    "food_df = food_df.drop_duplicates()\n",
    "\n",
    "print('jumlah data kosong: {}'.format(food_df.isna().sum().to_dict()))\n",
    "print('jumlah data duplikat: {}'.format(food_df.duplicated().sum()))\n",
    "\n",
    "print('jumlah data clean: {}'.format(food_df.shape[0]))"
   ]
  },
  {
   "cell_type": "code",
   "execution_count": 8,
   "metadata": {
    "colab": {
     "base_uri": "https://localhost:8080/"
    },
    "id": "Kc1ykjDwZ0CJ",
    "outputId": "6ea188d1-7aa6-4f84-fcc9-35d08344c17d"
   },
   "outputs": [
    {
     "data": {
      "text/plain": [
       "Index(['Food Name', 'Glycemic Index', 'Calories', 'Carbohydrates', 'Protein',\n",
       "       'Fat', 'Suitable for Diabetes', 'Suitable for Blood Pressure',\n",
       "       'Sodium Content', 'Potassium Content', 'Magnesium Content',\n",
       "       'Calcium Content', 'Fiber Content'],\n",
       "      dtype='object')"
      ]
     },
     "execution_count": 8,
     "metadata": {},
     "output_type": "execute_result"
    }
   ],
   "source": [
    "food_df.columns"
   ]
  },
  {
   "cell_type": "code",
   "execution_count": 9,
   "metadata": {
    "colab": {
     "base_uri": "https://localhost:8080/"
    },
    "id": "agD7aaRjcKxP",
    "outputId": "b4bc7611-9b4f-49d4-e037-6b7c2d8cbf73"
   },
   "outputs": [
    {
     "name": "stdout",
     "output_type": "stream",
     "text": [
      "<class 'pandas.core.frame.DataFrame'>\n",
      "Index: 431 entries, 0 to 501\n",
      "Data columns (total 13 columns):\n",
      " #   Column                       Non-Null Count  Dtype  \n",
      "---  ------                       --------------  -----  \n",
      " 0   Food Name                    431 non-null    object \n",
      " 1   Glycemic Index               431 non-null    int64  \n",
      " 2   Calories                     431 non-null    int64  \n",
      " 3   Carbohydrates                431 non-null    float64\n",
      " 4   Protein                      431 non-null    float64\n",
      " 5   Fat                          431 non-null    float64\n",
      " 6   Suitable for Diabetes        431 non-null    object \n",
      " 7   Suitable for Blood Pressure  431 non-null    int64  \n",
      " 8   Sodium Content               431 non-null    int64  \n",
      " 9   Potassium Content            431 non-null    int64  \n",
      " 10  Magnesium Content            431 non-null    int64  \n",
      " 11  Calcium Content              431 non-null    int64  \n",
      " 12  Fiber Content                431 non-null    float64\n",
      "dtypes: float64(4), int64(7), object(2)\n",
      "memory usage: 47.1+ KB\n"
     ]
    }
   ],
   "source": [
    "food_df.info()"
   ]
  },
  {
   "cell_type": "code",
   "execution_count": 10,
   "metadata": {
    "colab": {
     "base_uri": "https://localhost:8080/"
    },
    "id": "bqV8SVWvc7kx",
    "outputId": "0e8ad95c-5637-44fd-9bf3-ce31dee5d43f"
   },
   "outputs": [
    {
     "name": "stdout",
     "output_type": "stream",
     "text": [
      "['1' 'Yes' '0']\n",
      "object\n"
     ]
    }
   ],
   "source": [
    "print(food_df['Suitable for Diabetes'].unique())\n",
    "print(food_df['Suitable for Diabetes'].dtype)"
   ]
  },
  {
   "cell_type": "code",
   "execution_count": 11,
   "metadata": {
    "colab": {
     "base_uri": "https://localhost:8080/"
    },
    "id": "tf8zbYH_chJz",
    "outputId": "46df7e96-5552-4684-894d-1a79f0205f92"
   },
   "outputs": [
    {
     "name": "stdout",
     "output_type": "stream",
     "text": [
      "[1 0]\n",
      "int64\n"
     ]
    }
   ],
   "source": [
    "# encoder pada kolom Suitable for Diabetes dan Suitable for Blood Pressure\n",
    "food_df['Suitable for Diabetes'] = food_df['Suitable for Diabetes'].map({'Yes': 1, '1': 1, '0': 0})\n",
    "\n",
    "print(food_df['Suitable for Diabetes'].unique())\n",
    "print(food_df['Suitable for Diabetes'].dtype)"
   ]
  },
  {
   "cell_type": "code",
   "execution_count": 12,
   "metadata": {
    "colab": {
     "base_uri": "https://localhost:8080/"
    },
    "id": "qQfXf_0qaqSv",
    "outputId": "fafc0b43-b397-4efe-8424-0302f812f01d"
   },
   "outputs": [
    {
     "name": "stdout",
     "output_type": "stream",
     "text": [
      "jumlah data nutrisi yang cocok untuk penderita diabet: 393\n"
     ]
    }
   ],
   "source": [
    "diabet_food = food_df.copy()\n",
    "diabet_food = diabet_food[diabet_food['Suitable for Diabetes'] == 1]\n",
    "print('jumlah data nutrisi yang cocok untuk penderita diabet: {}'.format(diabet_food.shape[0]))"
   ]
  },
  {
   "cell_type": "code",
   "execution_count": 13,
   "metadata": {
    "colab": {
     "base_uri": "https://localhost:8080/",
     "height": 206
    },
    "id": "KYK4XhPodnRU",
    "outputId": "95ee711a-16f4-400f-ca3a-85ea3caf16cc"
   },
   "outputs": [
    {
     "data": {
      "text/html": [
       "<div>\n",
       "<style scoped>\n",
       "    .dataframe tbody tr th:only-of-type {\n",
       "        vertical-align: middle;\n",
       "    }\n",
       "\n",
       "    .dataframe tbody tr th {\n",
       "        vertical-align: top;\n",
       "    }\n",
       "\n",
       "    .dataframe thead th {\n",
       "        text-align: right;\n",
       "    }\n",
       "</style>\n",
       "<table border=\"1\" class=\"dataframe\">\n",
       "  <thead>\n",
       "    <tr style=\"text-align: right;\">\n",
       "      <th></th>\n",
       "      <th>Calories</th>\n",
       "      <th>Carbohydrates</th>\n",
       "      <th>Protein</th>\n",
       "      <th>Fat</th>\n",
       "    </tr>\n",
       "  </thead>\n",
       "  <tbody>\n",
       "    <tr>\n",
       "      <th>0</th>\n",
       "      <td>52</td>\n",
       "      <td>14.0</td>\n",
       "      <td>0.3</td>\n",
       "      <td>0.2</td>\n",
       "    </tr>\n",
       "    <tr>\n",
       "      <th>1</th>\n",
       "      <td>96</td>\n",
       "      <td>23.0</td>\n",
       "      <td>1.1</td>\n",
       "      <td>0.2</td>\n",
       "    </tr>\n",
       "    <tr>\n",
       "      <th>2</th>\n",
       "      <td>43</td>\n",
       "      <td>9.0</td>\n",
       "      <td>0.9</td>\n",
       "      <td>0.1</td>\n",
       "    </tr>\n",
       "    <tr>\n",
       "      <th>3</th>\n",
       "      <td>29</td>\n",
       "      <td>7.0</td>\n",
       "      <td>0.7</td>\n",
       "      <td>0.3</td>\n",
       "    </tr>\n",
       "    <tr>\n",
       "      <th>4</th>\n",
       "      <td>57</td>\n",
       "      <td>14.0</td>\n",
       "      <td>0.7</td>\n",
       "      <td>0.3</td>\n",
       "    </tr>\n",
       "  </tbody>\n",
       "</table>\n",
       "</div>"
      ],
      "text/plain": [
       "   Calories  Carbohydrates  Protein  Fat\n",
       "0        52           14.0      0.3  0.2\n",
       "1        96           23.0      1.1  0.2\n",
       "2        43            9.0      0.9  0.1\n",
       "3        29            7.0      0.7  0.3\n",
       "4        57           14.0      0.7  0.3"
      ]
     },
     "execution_count": 13,
     "metadata": {},
     "output_type": "execute_result"
    }
   ],
   "source": [
    "diabet_food = diabet_food[['Calories', 'Carbohydrates', 'Protein', 'Fat']]\n",
    "diabet_food.head()"
   ]
  },
  {
   "cell_type": "code",
   "execution_count": 14,
   "metadata": {
    "colab": {
     "base_uri": "https://localhost:8080/",
     "height": 300
    },
    "id": "9XpfKw1Wh62c",
    "outputId": "068bdb28-5d0f-4b23-d908-cb18ab763571"
   },
   "outputs": [
    {
     "data": {
      "text/html": [
       "<div>\n",
       "<style scoped>\n",
       "    .dataframe tbody tr th:only-of-type {\n",
       "        vertical-align: middle;\n",
       "    }\n",
       "\n",
       "    .dataframe tbody tr th {\n",
       "        vertical-align: top;\n",
       "    }\n",
       "\n",
       "    .dataframe thead th {\n",
       "        text-align: right;\n",
       "    }\n",
       "</style>\n",
       "<table border=\"1\" class=\"dataframe\">\n",
       "  <thead>\n",
       "    <tr style=\"text-align: right;\">\n",
       "      <th></th>\n",
       "      <th>Calories</th>\n",
       "      <th>Carbohydrates</th>\n",
       "      <th>Protein</th>\n",
       "      <th>Fat</th>\n",
       "    </tr>\n",
       "  </thead>\n",
       "  <tbody>\n",
       "    <tr>\n",
       "      <th>count</th>\n",
       "      <td>393.000000</td>\n",
       "      <td>393.000000</td>\n",
       "      <td>393.000000</td>\n",
       "      <td>393.000000</td>\n",
       "    </tr>\n",
       "    <tr>\n",
       "      <th>mean</th>\n",
       "      <td>184.282443</td>\n",
       "      <td>18.026718</td>\n",
       "      <td>9.531858</td>\n",
       "      <td>8.825700</td>\n",
       "    </tr>\n",
       "    <tr>\n",
       "      <th>std</th>\n",
       "      <td>154.561886</td>\n",
       "      <td>17.271423</td>\n",
       "      <td>9.244055</td>\n",
       "      <td>13.696184</td>\n",
       "    </tr>\n",
       "    <tr>\n",
       "      <th>min</th>\n",
       "      <td>0.000000</td>\n",
       "      <td>0.000000</td>\n",
       "      <td>0.000000</td>\n",
       "      <td>0.000000</td>\n",
       "    </tr>\n",
       "    <tr>\n",
       "      <th>25%</th>\n",
       "      <td>54.000000</td>\n",
       "      <td>5.000000</td>\n",
       "      <td>1.900000</td>\n",
       "      <td>0.400000</td>\n",
       "    </tr>\n",
       "    <tr>\n",
       "      <th>50%</th>\n",
       "      <td>160.000000</td>\n",
       "      <td>12.000000</td>\n",
       "      <td>5.300000</td>\n",
       "      <td>3.600000</td>\n",
       "    </tr>\n",
       "    <tr>\n",
       "      <th>75%</th>\n",
       "      <td>265.000000</td>\n",
       "      <td>26.300000</td>\n",
       "      <td>15.700000</td>\n",
       "      <td>13.500000</td>\n",
       "    </tr>\n",
       "    <tr>\n",
       "      <th>max</th>\n",
       "      <td>902.000000</td>\n",
       "      <td>77.500000</td>\n",
       "      <td>31.000000</td>\n",
       "      <td>100.000000</td>\n",
       "    </tr>\n",
       "  </tbody>\n",
       "</table>\n",
       "</div>"
      ],
      "text/plain": [
       "         Calories  Carbohydrates     Protein         Fat\n",
       "count  393.000000     393.000000  393.000000  393.000000\n",
       "mean   184.282443      18.026718    9.531858    8.825700\n",
       "std    154.561886      17.271423    9.244055   13.696184\n",
       "min      0.000000       0.000000    0.000000    0.000000\n",
       "25%     54.000000       5.000000    1.900000    0.400000\n",
       "50%    160.000000      12.000000    5.300000    3.600000\n",
       "75%    265.000000      26.300000   15.700000   13.500000\n",
       "max    902.000000      77.500000   31.000000  100.000000"
      ]
     },
     "execution_count": 14,
     "metadata": {},
     "output_type": "execute_result"
    }
   ],
   "source": [
    "diabet_food.describe()"
   ]
  },
  {
   "cell_type": "code",
   "execution_count": 15,
   "metadata": {
    "colab": {
     "base_uri": "https://localhost:8080/"
    },
    "id": "CnXXkBRWenWm",
    "outputId": "d425ae50-d696-4d7a-b14b-174b9c630090"
   },
   "outputs": [
    {
     "name": "stdout",
     "output_type": "stream",
     "text": [
      "rata-rata kalori: 184.28\n",
      "rata-rata karbohidrat: 18.03\n",
      "rata-rata protein: 9.53\n",
      "rata-rata lemak: 8.83\n",
      "\n",
      "\n",
      "max kalori: 902.00\n",
      "max karbohidrat: 77.50\n",
      "max protein: 31.00\n"
     ]
    }
   ],
   "source": [
    "cal_mean = diabet_food['Calories'].mean()\n",
    "carb_mean = diabet_food['Carbohydrates'].mean()\n",
    "protein_mean = diabet_food['Protein'].mean()\n",
    "fat_mean = diabet_food['Fat'].mean()\n",
    "\n",
    "max_cal = diabet_food['Calories'].max()\n",
    "max_carb = diabet_food['Carbohydrates'].max()\n",
    "max_protein = diabet_food['Protein'].max()\n",
    "max_fat = diabet_food['Fat'].max()\n",
    "\n",
    "print('rata-rata kalori: {:.2f}'.format(cal_mean))\n",
    "print('rata-rata karbohidrat: {:.2f}'.format(carb_mean))\n",
    "print('rata-rata protein: {:.2f}'.format(protein_mean))\n",
    "print('rata-rata lemak: {:.2f}'.format(fat_mean))\n",
    "\n",
    "print('\\n')\n",
    "\n",
    "print('max kalori: {:.2f}'.format(max_cal))\n",
    "print('max karbohidrat: {:.2f}'.format(max_carb))\n",
    "print('max protein: {:.2f}'.format(max_protein))"
   ]
  },
  {
   "cell_type": "code",
   "execution_count": 16,
   "metadata": {},
   "outputs": [
    {
     "name": "stdout",
     "output_type": "stream",
     "text": [
      "data duplicated: 74\n",
      "data duplicated: 0\n"
     ]
    }
   ],
   "source": [
    "print(\"data duplicated: {}\".format(diabet_food.duplicated().sum()))\n",
    "diabet_food = diabet_food.drop_duplicates()\n",
    "print(\"data duplicated: {}\".format(diabet_food.duplicated().sum()))"
   ]
  },
  {
   "cell_type": "code",
   "execution_count": 17,
   "metadata": {},
   "outputs": [],
   "source": [
    "# export CSV clean data\n",
    "diabet_food.to_csv(os.path.join(DATA_DIR, 'diabet_food_recomendation_clean.csv'), index=False)"
   ]
  },
  {
   "cell_type": "markdown",
   "metadata": {
    "id": "BvtHYtW4dg4d"
   },
   "source": [
    "## **REKOMENDASI MAKANAN INDO**\n",
    "\n",
    "Link dataset: https://www.kaggle.com/datasets/anasfikrihanif/indonesian-food-and-drink-nutrition-dataset/data"
   ]
  },
  {
   "cell_type": "code",
   "execution_count": 18,
   "metadata": {
    "colab": {
     "base_uri": "https://localhost:8080/",
     "height": 206
    },
    "id": "lCJ9Fd4tmXHO",
    "outputId": "395e4eb5-b66b-4101-970b-e540d9a6be00"
   },
   "outputs": [
    {
     "data": {
      "text/html": [
       "<div>\n",
       "<style scoped>\n",
       "    .dataframe tbody tr th:only-of-type {\n",
       "        vertical-align: middle;\n",
       "    }\n",
       "\n",
       "    .dataframe tbody tr th {\n",
       "        vertical-align: top;\n",
       "    }\n",
       "\n",
       "    .dataframe thead th {\n",
       "        text-align: right;\n",
       "    }\n",
       "</style>\n",
       "<table border=\"1\" class=\"dataframe\">\n",
       "  <thead>\n",
       "    <tr style=\"text-align: right;\">\n",
       "      <th></th>\n",
       "      <th>id</th>\n",
       "      <th>calories</th>\n",
       "      <th>proteins</th>\n",
       "      <th>fat</th>\n",
       "      <th>carbohydrate</th>\n",
       "      <th>name</th>\n",
       "      <th>image</th>\n",
       "    </tr>\n",
       "  </thead>\n",
       "  <tbody>\n",
       "    <tr>\n",
       "      <th>0</th>\n",
       "      <td>1</td>\n",
       "      <td>280.0</td>\n",
       "      <td>9.2</td>\n",
       "      <td>28.4</td>\n",
       "      <td>0.0</td>\n",
       "      <td>Abon</td>\n",
       "      <td>https://img-cdn.medkomtek.com/PbrY9X3ignQ8sVuj...</td>\n",
       "    </tr>\n",
       "    <tr>\n",
       "      <th>1</th>\n",
       "      <td>2</td>\n",
       "      <td>513.0</td>\n",
       "      <td>23.7</td>\n",
       "      <td>37.0</td>\n",
       "      <td>21.3</td>\n",
       "      <td>Abon haruwan</td>\n",
       "      <td>https://img-global.cpcdn.com/recipes/cbf330fbd...</td>\n",
       "    </tr>\n",
       "    <tr>\n",
       "      <th>2</th>\n",
       "      <td>3</td>\n",
       "      <td>0.0</td>\n",
       "      <td>0.0</td>\n",
       "      <td>0.2</td>\n",
       "      <td>0.0</td>\n",
       "      <td>Agar-agar</td>\n",
       "      <td>https://res.cloudinary.com/dk0z4ums3/image/upl...</td>\n",
       "    </tr>\n",
       "    <tr>\n",
       "      <th>3</th>\n",
       "      <td>4</td>\n",
       "      <td>45.0</td>\n",
       "      <td>1.1</td>\n",
       "      <td>0.4</td>\n",
       "      <td>10.8</td>\n",
       "      <td>Akar tonjong segar</td>\n",
       "      <td>https://images.tokopedia.net/img/cache/200-squ...</td>\n",
       "    </tr>\n",
       "    <tr>\n",
       "      <th>4</th>\n",
       "      <td>5</td>\n",
       "      <td>37.0</td>\n",
       "      <td>4.4</td>\n",
       "      <td>0.5</td>\n",
       "      <td>3.8</td>\n",
       "      <td>Aletoge segar</td>\n",
       "      <td>https://nilaigizi.com/assets/images/produk/pro...</td>\n",
       "    </tr>\n",
       "  </tbody>\n",
       "</table>\n",
       "</div>"
      ],
      "text/plain": [
       "   id  calories  proteins   fat  carbohydrate                name  \\\n",
       "0   1     280.0       9.2  28.4           0.0                Abon   \n",
       "1   2     513.0      23.7  37.0          21.3        Abon haruwan   \n",
       "2   3       0.0       0.0   0.2           0.0           Agar-agar   \n",
       "3   4      45.0       1.1   0.4          10.8  Akar tonjong segar   \n",
       "4   5      37.0       4.4   0.5           3.8       Aletoge segar   \n",
       "\n",
       "                                               image  \n",
       "0  https://img-cdn.medkomtek.com/PbrY9X3ignQ8sVuj...  \n",
       "1  https://img-global.cpcdn.com/recipes/cbf330fbd...  \n",
       "2  https://res.cloudinary.com/dk0z4ums3/image/upl...  \n",
       "3  https://images.tokopedia.net/img/cache/200-squ...  \n",
       "4  https://nilaigizi.com/assets/images/produk/pro...  "
      ]
     },
     "execution_count": 18,
     "metadata": {},
     "output_type": "execute_result"
    }
   ],
   "source": [
    "df = pd.read_csv(os.path.join(DATA_DIR, 'nutrition.csv'))\n",
    "df.head()"
   ]
  },
  {
   "cell_type": "code",
   "execution_count": 19,
   "metadata": {
    "colab": {
     "base_uri": "https://localhost:8080/",
     "height": 370
    },
    "id": "VnpsBqPUmrzC",
    "outputId": "e1468313-6dac-4654-aa69-3fcb68c6651a"
   },
   "outputs": [
    {
     "name": "stdout",
     "output_type": "stream",
     "text": [
      "Jumlah data: 1346\n",
      "Jumlah data kosong: {'id': 0, 'calories': 0, 'proteins': 0, 'fat': 0, 'carbohydrate': 0, 'name': 0, 'image': 0}\n",
      "Jumlah data duplicate: 0\n",
      "Informasi Data\n"
     ]
    },
    {
     "data": {
      "text/html": [
       "<div>\n",
       "<style scoped>\n",
       "    .dataframe tbody tr th:only-of-type {\n",
       "        vertical-align: middle;\n",
       "    }\n",
       "\n",
       "    .dataframe tbody tr th {\n",
       "        vertical-align: top;\n",
       "    }\n",
       "\n",
       "    .dataframe thead th {\n",
       "        text-align: right;\n",
       "    }\n",
       "</style>\n",
       "<table border=\"1\" class=\"dataframe\">\n",
       "  <thead>\n",
       "    <tr style=\"text-align: right;\">\n",
       "      <th></th>\n",
       "      <th>id</th>\n",
       "      <th>calories</th>\n",
       "      <th>proteins</th>\n",
       "      <th>fat</th>\n",
       "      <th>carbohydrate</th>\n",
       "    </tr>\n",
       "  </thead>\n",
       "  <tbody>\n",
       "    <tr>\n",
       "      <th>count</th>\n",
       "      <td>1346.000000</td>\n",
       "      <td>1346.000000</td>\n",
       "      <td>1346.000000</td>\n",
       "      <td>1346.000000</td>\n",
       "      <td>1346.000000</td>\n",
       "    </tr>\n",
       "    <tr>\n",
       "      <th>mean</th>\n",
       "      <td>673.500000</td>\n",
       "      <td>203.217385</td>\n",
       "      <td>10.001189</td>\n",
       "      <td>7.584027</td>\n",
       "      <td>25.390193</td>\n",
       "    </tr>\n",
       "    <tr>\n",
       "      <th>std</th>\n",
       "      <td>388.701042</td>\n",
       "      <td>163.075430</td>\n",
       "      <td>11.847980</td>\n",
       "      <td>13.733063</td>\n",
       "      <td>32.193054</td>\n",
       "    </tr>\n",
       "    <tr>\n",
       "      <th>min</th>\n",
       "      <td>1.000000</td>\n",
       "      <td>0.000000</td>\n",
       "      <td>0.000000</td>\n",
       "      <td>0.000000</td>\n",
       "      <td>0.000000</td>\n",
       "    </tr>\n",
       "    <tr>\n",
       "      <th>25%</th>\n",
       "      <td>337.250000</td>\n",
       "      <td>75.000000</td>\n",
       "      <td>1.800000</td>\n",
       "      <td>0.500000</td>\n",
       "      <td>4.525000</td>\n",
       "    </tr>\n",
       "    <tr>\n",
       "      <th>50%</th>\n",
       "      <td>673.500000</td>\n",
       "      <td>146.000000</td>\n",
       "      <td>5.000000</td>\n",
       "      <td>2.000000</td>\n",
       "      <td>13.300000</td>\n",
       "    </tr>\n",
       "    <tr>\n",
       "      <th>75%</th>\n",
       "      <td>1009.750000</td>\n",
       "      <td>333.750000</td>\n",
       "      <td>15.000000</td>\n",
       "      <td>8.275000</td>\n",
       "      <td>37.575000</td>\n",
       "    </tr>\n",
       "    <tr>\n",
       "      <th>max</th>\n",
       "      <td>1346.000000</td>\n",
       "      <td>940.000000</td>\n",
       "      <td>83.000000</td>\n",
       "      <td>100.000000</td>\n",
       "      <td>647.000000</td>\n",
       "    </tr>\n",
       "  </tbody>\n",
       "</table>\n",
       "</div>"
      ],
      "text/plain": [
       "                id     calories     proteins          fat  carbohydrate\n",
       "count  1346.000000  1346.000000  1346.000000  1346.000000   1346.000000\n",
       "mean    673.500000   203.217385    10.001189     7.584027     25.390193\n",
       "std     388.701042   163.075430    11.847980    13.733063     32.193054\n",
       "min       1.000000     0.000000     0.000000     0.000000      0.000000\n",
       "25%     337.250000    75.000000     1.800000     0.500000      4.525000\n",
       "50%     673.500000   146.000000     5.000000     2.000000     13.300000\n",
       "75%    1009.750000   333.750000    15.000000     8.275000     37.575000\n",
       "max    1346.000000   940.000000    83.000000   100.000000    647.000000"
      ]
     },
     "execution_count": 19,
     "metadata": {},
     "output_type": "execute_result"
    }
   ],
   "source": [
    "print(f'Jumlah data: {df.shape[0]}')\n",
    "print(f\"Jumlah data kosong: {df.isna().sum().to_dict()}\")\n",
    "print(f\"Jumlah data duplicate: {df.duplicated().sum()}\")\n",
    "\n",
    "print(\"Informasi Data\")\n",
    "df.describe()"
   ]
  },
  {
   "cell_type": "code",
   "execution_count": 20,
   "metadata": {
    "colab": {
     "base_uri": "https://localhost:8080/"
    },
    "id": "PR4Cu6RRfj5p",
    "outputId": "91fabe10-6c8f-43fc-e3d7-f8682c2ca820"
   },
   "outputs": [
    {
     "name": "stdout",
     "output_type": "stream",
     "text": [
      "Data gambar tanpa URL yang valid: 6\n",
      "Data gambar tanpa URL yang valid: 0\n",
      "Jumlah data sekarang: 1340\n"
     ]
    }
   ],
   "source": [
    "invalid_images = df[~df['image'].str.startswith(\"https://\")]\n",
    "\n",
    "print(f\"Data gambar tanpa URL yang valid: {len(invalid_images)}\")\n",
    "\n",
    "df = df.drop(invalid_images.index)\n",
    "\n",
    "invalid_images = df[~df['image'].str.startswith(\"https://\")]\n",
    "print(f\"Data gambar tanpa URL yang valid: {len(invalid_images)}\")\n",
    "\n",
    "print(f\"Jumlah data sekarang: {df.shape[0]}\")"
   ]
  },
  {
   "cell_type": "code",
   "execution_count": null,
   "metadata": {},
   "outputs": [],
   "source": [
    "df.to_"
   ]
  },
  {
   "cell_type": "code",
   "execution_count": 25,
   "metadata": {},
   "outputs": [
    {
     "data": {
      "text/html": [
       "<div>\n",
       "<style scoped>\n",
       "    .dataframe tbody tr th:only-of-type {\n",
       "        vertical-align: middle;\n",
       "    }\n",
       "\n",
       "    .dataframe tbody tr th {\n",
       "        vertical-align: top;\n",
       "    }\n",
       "\n",
       "    .dataframe thead th {\n",
       "        text-align: right;\n",
       "    }\n",
       "</style>\n",
       "<table border=\"1\" class=\"dataframe\">\n",
       "  <thead>\n",
       "    <tr style=\"text-align: right;\">\n",
       "      <th></th>\n",
       "      <th>id</th>\n",
       "      <th>calories</th>\n",
       "      <th>proteins</th>\n",
       "      <th>fat</th>\n",
       "      <th>carbohydrate</th>\n",
       "      <th>name</th>\n",
       "      <th>image</th>\n",
       "    </tr>\n",
       "  </thead>\n",
       "  <tbody>\n",
       "    <tr>\n",
       "      <th>0</th>\n",
       "      <td>1</td>\n",
       "      <td>280.0</td>\n",
       "      <td>9.2</td>\n",
       "      <td>28.4</td>\n",
       "      <td>0.0</td>\n",
       "      <td>Abon</td>\n",
       "      <td>https://storage.googleapis.com/sweetlife-go/ml...</td>\n",
       "    </tr>\n",
       "    <tr>\n",
       "      <th>1</th>\n",
       "      <td>2</td>\n",
       "      <td>513.0</td>\n",
       "      <td>23.7</td>\n",
       "      <td>37.0</td>\n",
       "      <td>21.3</td>\n",
       "      <td>Abon haruwan</td>\n",
       "      <td>https://storage.googleapis.com/sweetlife-go/ml...</td>\n",
       "    </tr>\n",
       "    <tr>\n",
       "      <th>2</th>\n",
       "      <td>3</td>\n",
       "      <td>0.0</td>\n",
       "      <td>0.0</td>\n",
       "      <td>0.2</td>\n",
       "      <td>0.0</td>\n",
       "      <td>Agar-agar</td>\n",
       "      <td>https://storage.googleapis.com/sweetlife-go/ml...</td>\n",
       "    </tr>\n",
       "    <tr>\n",
       "      <th>3</th>\n",
       "      <td>4</td>\n",
       "      <td>45.0</td>\n",
       "      <td>1.1</td>\n",
       "      <td>0.4</td>\n",
       "      <td>10.8</td>\n",
       "      <td>Akar tonjong segar</td>\n",
       "      <td>https://storage.googleapis.com/sweetlife-go/ml...</td>\n",
       "    </tr>\n",
       "    <tr>\n",
       "      <th>4</th>\n",
       "      <td>5</td>\n",
       "      <td>37.0</td>\n",
       "      <td>4.4</td>\n",
       "      <td>0.5</td>\n",
       "      <td>3.8</td>\n",
       "      <td>Aletoge segar</td>\n",
       "      <td>https://storage.googleapis.com/sweetlife-go/ml...</td>\n",
       "    </tr>\n",
       "  </tbody>\n",
       "</table>\n",
       "</div>"
      ],
      "text/plain": [
       "   id  calories  proteins   fat  carbohydrate                name  \\\n",
       "0   1     280.0       9.2  28.4           0.0                Abon   \n",
       "1   2     513.0      23.7  37.0          21.3        Abon haruwan   \n",
       "2   3       0.0       0.0   0.2           0.0           Agar-agar   \n",
       "3   4      45.0       1.1   0.4          10.8  Akar tonjong segar   \n",
       "4   5      37.0       4.4   0.5           3.8       Aletoge segar   \n",
       "\n",
       "                                               image  \n",
       "0  https://storage.googleapis.com/sweetlife-go/ml...  \n",
       "1  https://storage.googleapis.com/sweetlife-go/ml...  \n",
       "2  https://storage.googleapis.com/sweetlife-go/ml...  \n",
       "3  https://storage.googleapis.com/sweetlife-go/ml...  \n",
       "4  https://storage.googleapis.com/sweetlife-go/ml...  "
      ]
     },
     "execution_count": 25,
     "metadata": {},
     "output_type": "execute_result"
    }
   ],
   "source": [
    "df = pd.read_csv(os.path.join(DATA_DIR, 'nutrition_new.csv'))\n",
    "df.head()"
   ]
  },
  {
   "cell_type": "code",
   "execution_count": 26,
   "metadata": {},
   "outputs": [
    {
     "data": {
      "text/plain": [
       "1128"
      ]
     },
     "execution_count": 26,
     "metadata": {},
     "output_type": "execute_result"
    }
   ],
   "source": [
    "df.shape[0]"
   ]
  },
  {
   "cell_type": "code",
   "execution_count": 21,
   "metadata": {
    "id": "1Wl_DC4joR4e"
   },
   "outputs": [],
   "source": [
    "def filter_food(df, max_calories=None, max_carbohydrate=None, max_fat=None, max_protein=None):\n",
    "    \"\"\"\n",
    "    Filter makanan berdasarkan batas kalori, karbohidrat, dan lemak.\n",
    "    \"\"\"\n",
    "    filtered_df = df.copy()\n",
    "    if max_calories is not None:\n",
    "        filtered_df = filtered_df[filtered_df['calories'] <= max_calories]\n",
    "    if max_carbohydrate is not None:\n",
    "        filtered_df = filtered_df[filtered_df['carbohydrate'] <= max_carbohydrate]\n",
    "    if max_fat is not None:\n",
    "        filtered_df = filtered_df[filtered_df['fat'] <= max_fat]\n",
    "    if max_protein is not None:\n",
    "        filtered_df = filtered_df[filtered_df['proteins'] <= max_protein]\n",
    "\n",
    "    return filtered_df\n",
    "\n",
    "def generate_combinations(food_df, num_combinations=5, items_per_combination=5):\n",
    "    \"\"\"\n",
    "    Generate kombinasi makanan acak.\n",
    "    \"\"\"\n",
    "    combinations = []\n",
    "    for _ in range(num_combinations):\n",
    "        random_selection = food_df.sample(min(len(food_df), items_per_combination))\n",
    "\n",
    "        combinations.append(random_selection)\n",
    "    return combinations"
   ]
  },
  {
   "cell_type": "code",
   "execution_count": 22,
   "metadata": {
    "colab": {
     "base_uri": "https://localhost:8080/"
    },
    "id": "qg8_o4LGleBX",
    "outputId": "fe66a8b6-22cf-4dcd-a0a0-62cd9d32a411"
   },
   "outputs": [
    {
     "name": "stdin",
     "output_type": "stream",
     "text": [
      "Masukkan nilai (0 hingga 1):  0.4\n"
     ]
    },
    {
     "name": "stdout",
     "output_type": "stream",
     "text": [
      "karena user tidak mengalami diabetes\n",
      "berikut beberapa opsi makanan yang mungkin cocok untuk user:\n",
      "\n",
      "Kombinasi 1:\n",
      "                   name  calories  carbohydrate  fat  proteins  \\\n",
      "9     Ampas tahu mentah      67.0           8.1  2.1       5.0   \n",
      "566   Jamur tiram segar      30.0           5.5  0.1       1.9   \n",
      "144          Bika ambon     199.0          44.4  1.5       2.1   \n",
      "21           Ares sayur     113.0          11.2  7.2       0.9   \n",
      "1026       Putu Mayang      200.0          43.8  2.4       1.0   \n",
      "\n",
      "                                                  image  \n",
      "9     https://cdn-image.hipwee.com/wp-content/upload...  \n",
      "566   https://asset.kompas.com/crops/3R88xEE7NLaT0rK...  \n",
      "144   https://upload.wikimedia.org/wikipedia/commons...  \n",
      "21    https://asset-a.grid.id/crop/0x0:0x0/x/photo/2...  \n",
      "1026  https://awsimages.detik.net.id/community/media...  \n",
      "\n",
      "Kombinasi 2:\n",
      "                          name  calories  carbohydrate   fat  proteins  \\\n",
      "37   Ayam goreng Kentucky paha     286.0           1.1  16.1      32.1   \n",
      "786               Kranji segar     315.0          73.5   1.4       2.1   \n",
      "727              Keripik oncom     598.0          42.6  43.8       8.3   \n",
      "742       Kerupuk Kulit kerbau     422.0           0.0   4.0      83.0   \n",
      "191        Burung sarang segar     281.0          32.1   0.3      37.5   \n",
      "\n",
      "                                                 image  \n",
      "37   https://img-global.cpcdn.com/recipes/d61db7c70...  \n",
      "786  https://lzd-img-global.slatic.net/g/p/e4cd1b24...  \n",
      "727  https://images.tokopedia.net/img/cache/700/pro...  \n",
      "742  https://halalmui.org/wp-content/uploads/2022/0...  \n",
      "191  https://premiumnest-5c4c.kxcdn.com/wp-content/...  \n",
      "\n",
      "Kombinasi 3:\n",
      "                   name  calories  carbohydrate  fat  proteins  \\\n",
      "184    Bunga turi segar      42.0           6.1  1.1       2.0   \n",
      "1086   Sapi dideh/darah      98.0           0.0  1.1      21.9   \n",
      "1323       Udang kering     295.0           1.8  2.3      62.4   \n",
      "1259     Tepung Kentang     347.0          85.6  0.1       0.3   \n",
      "9     Ampas tahu mentah      67.0           8.1  2.1       5.0   \n",
      "\n",
      "                                                  image  \n",
      "184   https://images.tokopedia.net/img/cache/500-squ...  \n",
      "1086  https://cdns.diadona.id/diadona.id/resized/640...  \n",
      "1323  https://img.lovepik.com/photo/20211207/medium/...  \n",
      "1259  https://s1.bukalapak.com/bukalapak-kontenz-pro...  \n",
      "9     https://cdn-image.hipwee.com/wp-content/upload...  \n",
      "\n",
      "Kombinasi 4:\n",
      "                     name  calories  carbohydrate   fat  proteins  \\\n",
      "517      Ikan Teri kering     170.0           0.0   3.0      33.4   \n",
      "182          Buncis rebus      30.0           6.4   0.2       2.2   \n",
      "189     Buntil daun talas     141.0           8.0  10.2       4.4   \n",
      "848        Leupeut Ketan      240.0          51.3   0.5       7.8   \n",
      "318  Dendeng belut goreng     382.0           8.0  14.1      55.7   \n",
      "\n",
      "                                                 image  \n",
      "517  https://cdn0-production-images-kly.akamaized.n...  \n",
      "182  https://d1vbn70lmn1nqe.cloudfront.net/prod/wp-...  \n",
      "189  https://i0.wp.com/borobudurnews.com/wp-content...  \n",
      "848  https://sweetrip.id/wp-content/uploads/2021/05...  \n",
      "318  https://selerasa.com/wp-content/uploads/2015/1...  \n",
      "\n",
      "Kombinasi 5:\n",
      "                         name  calories  carbohydrate   fat  proteins  \\\n",
      "357             Gadung mentah     101.0          23.2   0.2       2.1   \n",
      "840              Lemak Kerbau     818.0           0.0  90.0       1.5   \n",
      "1302  Tomat air (juice) segar      20.0           3.5   0.2       1.0   \n",
      "1117      Sayur lilin-terubuk      36.0           4.8   0.7       2.7   \n",
      "562        Jamur kuping segar      21.0           0.9   0.6       3.8   \n",
      "\n",
      "                                                  image  \n",
      "357   https://jernih.co/wp-content/uploads/gadung-1.jpg  \n",
      "840   https://awsimages.detik.net.id/community/media...  \n",
      "1302  https://assets.ayobandung.com/crop/0x0:0x0/750...  \n",
      "1117  https://img-global.cpcdn.com/recipes/a038616fb...  \n",
      "562   https://res.cloudinary.com/dk0z4ums3/image/upl...  \n"
     ]
    }
   ],
   "source": [
    "# contoh input\n",
    "while True:\n",
    "    try:\n",
    "        user_diabetes = float(input(\"Masukkan nilai (0 hingga 1): \"))\n",
    "\n",
    "        if 0 <= user_diabetes <= 1:\n",
    "            user_diabetes = 1 if user_diabetes >= 0.5 else 0\n",
    "            break\n",
    "        else:\n",
    "            print(\"Input harus berada antara 0 dan 1.\")\n",
    "    except ValueError:\n",
    "        print(\"Input tidak valid! Harap masukkan angka.\")\n",
    "\n",
    "print(f\"karena {'kemungkinan user merupakan pasien diabetes' if user_diabetes else 'user tidak mengalami diabetes'}\")\n",
    "\n",
    "print(f\"berikut beberapa opsi makanan yang mungkin cocok untuk user:\")\n",
    "\n",
    "diabetes_food = filter_food(df, max_calories=max_cal, max_carbohydrate=max_carb, max_fat=max_fat, max_protein=max_protein)\n",
    "normal_food = df\n",
    "\n",
    "diabetes_combinations = generate_combinations(diabetes_food, num_combinations=5)\n",
    "normal_combinations = generate_combinations(normal_food, num_combinations=5)\n",
    "\n",
    "if user_diabetes:\n",
    "    for idx, combo in enumerate(diabetes_combinations, 1):\n",
    "        print(f\"\\nKombinasi {idx}:\")\n",
    "        print(combo[[\"name\", \"calories\", \"carbohydrate\", \"fat\", \"proteins\", \"image\"]])\n",
    "else:\n",
    "    for idx, combo in enumerate(normal_combinations, 1):\n",
    "        print(f\"\\nKombinasi {idx}:\")\n",
    "        print(combo[[\"name\", \"calories\", \"carbohydrate\", \"fat\", \"proteins\", \"image\"]])"
   ]
  },
  {
   "cell_type": "code",
   "execution_count": 23,
   "metadata": {
    "colab": {
     "base_uri": "https://localhost:8080/"
    },
    "id": "LqvcvDCItNpr",
    "outputId": "75076c7a-b948-469f-c371-44099c8bcedb"
   },
   "outputs": [
    {
     "name": "stdout",
     "output_type": "stream",
     "text": [
      "https://asset.kompas.com/crops/Zb2CWR9vmVrUUr6v372o4SJ8gs0=/0x0:1000x667/750x500/data/photo/2021/07/18/60f3913f44be3.jpg\n"
     ]
    }
   ],
   "source": [
    "print(df['image'][951])"
   ]
  },
  {
   "cell_type": "code",
   "execution_count": 24,
   "metadata": {
    "colab": {
     "base_uri": "https://localhost:8080/"
    },
    "id": "uTzRi5cct67l",
    "outputId": "17d9175e-d4ee-4ae9-d373-a557c5b63ec4"
   },
   "outputs": [
    {
     "name": "stdout",
     "output_type": "stream",
     "text": [
      "Ukuran gambar pada URL di baris 951: Lebar = 750 piksel, Tinggi = 500 piksel\n"
     ]
    }
   ],
   "source": [
    "import requests\n",
    "from PIL import Image\n",
    "from io import BytesIO\n",
    "\n",
    "image_url = df['image'][1099]\n",
    "\n",
    "response = requests.get(image_url)\n",
    "\n",
    "if response.status_code == 200:\n",
    "    img = Image.open(BytesIO(response.content))\n",
    "\n",
    "    width, height = img.size\n",
    "    print(f\"Ukuran gambar pada URL di baris 951: Lebar = {width} piksel, Tinggi = {height} piksel\")\n",
    "else:\n",
    "    print(\"Gambar tidak dapat diunduh. Status code:\", response.status_code)"
   ]
  }
 ],
 "metadata": {
  "colab": {
   "provenance": []
  },
  "kernelspec": {
   "display_name": "Python 3 (ipykernel)",
   "language": "python",
   "name": "python3"
  },
  "language_info": {
   "codemirror_mode": {
    "name": "ipython",
    "version": 3
   },
   "file_extension": ".py",
   "mimetype": "text/x-python",
   "name": "python",
   "nbconvert_exporter": "python",
   "pygments_lexer": "ipython3",
   "version": "3.12.6"
  }
 },
 "nbformat": 4,
 "nbformat_minor": 4
}
